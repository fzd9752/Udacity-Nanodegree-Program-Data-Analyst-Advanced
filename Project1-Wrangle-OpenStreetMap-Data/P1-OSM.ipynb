{
 "cells": [
  {
   "cell_type": "markdown",
   "metadata": {},
   "source": [
    "# OpenStreetMap Sample Project \n",
    "## Data Wrangling with SQL and MongoDB\n",
    "### *Elsa(Yishu) Wang*"
   ]
  },
  {
   "cell_type": "markdown",
   "metadata": {},
   "source": [
    "Map Area: Around **Mountain View** and **Palo Alto**, CA, USA\n",
    "https://mapzen.com/data/metro-extracts/your-extracts/0e538ffd2c40"
   ]
  },
  {
   "cell_type": "markdown",
   "metadata": {},
   "source": [
    "[1.Problems Encountered in the Map](#1)\n",
    "- [Over-abbreviated Street Names](#1.1)\n",
    "- [Different Styles of Cities and State Names](#1.2)\n",
    "- [Inconsistent second level `\"k\"`](#1.3)\n",
    "- [Inconsistent postal codes](#1.4)\n",
    "\n",
    "[2.Data Overview](#2)\n",
    "- [SQL](#2.1)\n",
    "- [MongoDB](#2.2)\n",
    "\n",
    "[3.Other Ideas about the datasets](#3)\n",
    "\n",
    "[3.Additional Ideas](#3)\n",
    "- [Cross-field validating of `user` value](3.3)\n",
    "- [Additional data exploration using SQL queries](*3.1)\n",
    "- [Additional data exploration using MongoDB queries](*3.2)"
   ]
  },
  {
   "cell_type": "markdown",
   "metadata": {
    "collapsed": true
   },
   "source": [
    "## <a name=\"1\"></a>1.Problems Encountered in the Map"
   ]
  },
  {
   "cell_type": "markdown",
   "metadata": {},
   "source": [
    "After downloading the data around *Mountain View* and *Palo Alto* area, I run below code agains `data.py` to overview the fields and values:"
   ]
  },
  {
   "cell_type": "code",
   "execution_count": 1,
   "metadata": {
    "collapsed": true
   },
   "outputs": [],
   "source": [
    "import audit\n",
    "from pprint import pprint\n",
    "import xml.etree.cElementTree as ET\n",
    "\n",
    "path = 'PaloAlto_MountainView_USA.osm'"
   ]
  },
  {
   "cell_type": "markdown",
   "metadata": {},
   "source": [
    "Check the tags and their counts"
   ]
  },
  {
   "cell_type": "code",
   "execution_count": 4,
   "metadata": {},
   "outputs": [
    {
     "name": "stdout",
     "output_type": "stream",
     "text": [
      "3821393 tags found.\n",
      "{'node': 1441121, 'nd': 1616553, 'bounds': 1, 'member': 8033, 'tag': 591472, 'relation': 1492, 'way': 162720, 'osm': 1}\n"
     ]
    }
   ],
   "source": [
    "tags = audit.get_tags(path)"
   ]
  },
  {
   "cell_type": "code",
   "execution_count": 16,
   "metadata": {},
   "outputs": [
    {
     "name": "stdout",
     "output_type": "stream",
     "text": [
      "'<node changeset=\"6776161\" id=\"302863\" lat=\"37.3769826\" lon=\"-122.0677726\" timestamp=\"2010-12-27T10:41:10Z\" uid=\"14293\" user=\"KindredCoda\" version=\"4\" />\\n\\t'\n",
      "'<node changeset=\"6776161\" id=\"302864\" lat=\"37.3740667\" lon=\"-122.0679336\" timestamp=\"2010-12-27T10:39:22Z\" uid=\"14293\" user=\"KindredCoda\" version=\"5\" />\\n\\t'\n"
     ]
    }
   ],
   "source": [
    "for i, element in enumerate(audit.get_element(path, tags=(\"node\"))):\n",
    "    pprint(ET.tostring(element, encoding='utf-8'))\n",
    "    if i == 1:\n",
    "        break"
   ]
  },
  {
   "cell_type": "code",
   "execution_count": 17,
   "metadata": {},
   "outputs": [
    {
     "name": "stdout",
     "output_type": "stream",
     "text": [
      "'<way changeset=\"41607115\" id=\"4304424\" timestamp=\"2016-08-22T06:17:09Z\" uid=\"933797\" user=\"oba510\" version=\"13\">\\n\\t\\t<nd ref=\"65495796\" />\\n\\t\\t<nd ref=\"280022084\" />\\n\\t\\t<nd ref=\"2425657373\" />\\n\\t\\t<nd ref=\"2425657370\" />\\n\\t\\t<nd ref=\"2425657372\" />\\n\\t\\t<nd ref=\"2425657371\" />\\n\\t\\t<nd ref=\"280022085\" />\\n\\t\\t<nd ref=\"3042421705\" />\\n\\t\\t<nd ref=\"26029084\" />\\n\\t\\t<tag k=\"lanes\" v=\"1\" />\\n\\t\\t<tag k=\"layer\" v=\"1\" />\\n\\t\\t<tag k=\"bridge\" v=\"yes\" />\\n\\t\\t<tag k=\"oneway\" v=\"yes\" />\\n\\t\\t<tag k=\"highway\" v=\"secondary_link\" />\\n\\t\\t<tag k=\"sidewalk\" v=\"no\" />\\n\\t</way>\\n\\t'\n",
      "'<way changeset=\"21185174\" id=\"4311277\" timestamp=\"2014-03-19T01:42:37Z\" uid=\"123633\" user=\"stevea\" version=\"70\">\\n\\t\\t<nd ref=\"26028708\" />\\n\\t\\t<nd ref=\"2371003215\" />\\n\\t\\t<nd ref=\"26678537\" />\\n\\t\\t<tag k=\"ref\" v=\"G6\" />\\n\\t\\t<tag k=\"name\" v=\"Central Expressway\" />\\n\\t\\t<tag k=\"note\" v=\"adding odbl tag to match split of way and remove tainted tags\" />\\n\\t\\t<tag k=\"lanes\" v=\"2\" />\\n\\t\\t<tag k=\"oneway\" v=\"yes\" />\\n\\t\\t<tag k=\"highway\" v=\"primary\" />\\n\\t\\t<tag k=\"maxspeed\" v=\"35 mph\" />\\n\\t</way>\\n\\t'\n"
     ]
    }
   ],
   "source": [
    "for i, element in enumerate(audit.get_element(path, tags=(\"way\"))):\n",
    "    pprint(ET.tostring(element, encoding='utf-8'))\n",
    "    if i == 1:\n",
    "        break"
   ]
  },
  {
   "cell_type": "markdown",
   "metadata": {},
   "source": [
    "It seems the structures and tags of this file are similiar to the example.osm. Next, I check the value for `tag` in order to have a sense of the potential fields:"
   ]
  },
  {
   "cell_type": "code",
   "execution_count": 8,
   "metadata": {
    "scrolled": false
   },
   "outputs": [
    {
     "name": "stdout",
     "output_type": "stream",
     "text": [
      "['STATEFP', 'COUNTYFP', 'Tiger:MTFCC', 'STATEFP', 'COUNTYFP', 'Tiger:MTFCC', 'COUNTYFP', 'STATEFP', 'Tiger:MTFCC', 'STATEFP']\n",
      "['Lydian Academy', 'addr.source:housenumber', 'addr.source:housenumber', 'addr.source:housenumber', 'addr.source:housenumber', 'addr.source:housenumber', 'addr.source:housenumber', 'addr.source:housenumber', 'addr.source:housenumber', 'addr.source:housenumber']\n",
      "['ref', 'source', 'exit_to', 'highway', 'highway', 'source', 'highway', 'source', 'highway', 'ref']\n",
      "['traffic_signals:sound', 'ref:left', 'ref:right', 'exit_to:left', 'exit_to:right', 'traffic_signals:direction', 'traffic_signals:sound', 'traffic_signals:sound', 'traffic_signals:sound', 'traffic_signals:sound']\n"
     ]
    }
   ],
   "source": [
    "keys = audit.key_type(path)\n",
    "print(keys['other'][0:10])\n",
    "print(keys['problemchars'][0:10])\n",
    "print(keys['lower'][0:10])\n",
    "print(keys['lower_colon'][0:10])"
   ]
  },
  {
   "cell_type": "markdown",
   "metadata": {},
   "source": [
    "Then I pick some values of k to check the details:"
   ]
  },
  {
   "cell_type": "markdown",
   "metadata": {},
   "source": [
    "```\n",
    "'addr:street' 'addr:postcode' 'addr:state' \n",
    "'addr:city' 'addr:county', 'AWATER'\n",
    "```"
   ]
  },
  {
   "cell_type": "code",
   "execution_count": 13,
   "metadata": {},
   "outputs": [
    {
     "name": "stdout",
     "output_type": "stream",
     "text": [
      "'<tag k=\"addr:street\" v=\"South Fair Oaks Avenue\" />\\n\\t\\t'\n",
      "'<tag k=\"addr:street\" v=\"West El Camino Real\" />\\n\\t\\t'\n",
      "'<tag k=\"addr:street\" v=\"West El Camino Real\" />'\n",
      "'<tag k=\"addr:street\" v=\"West El Camino Real\" />\\n\\t\\t'\n",
      "'<tag k=\"addr:street\" v=\"West El Camino Real\" />\\n\\t\\t'\n",
      "'<tag k=\"addr:street\" v=\"East El Camino Real\" />\\n\\t\\t'\n",
      "'<tag k=\"addr:street\" v=\"East Remington Drive\" />\\n\\t\\t'\n",
      "'<tag k=\"addr:street\" v=\"Hollenbeck Ave\" />\\n\\t\\t'\n",
      "'<tag k=\"addr:street\" v=\"West Evelyn Avenue\" />\\n\\t\\t'\n",
      "'<tag k=\"addr:street\" v=\"Lagunita Drive\" />\\n\\t\\t'\n"
     ]
    }
   ],
   "source": [
    "audit.find_interest(path, 'addr:street', 10)"
   ]
  },
  {
   "cell_type": "markdown",
   "metadata": {},
   "source": [
    "By looking some details of the choosen values of `k`, I noticed five main problems with the data, which I will discuss in the following order:"
   ]
  },
  {
   "cell_type": "markdown",
   "metadata": {},
   "source": [
    "- Over-abbreviated Street Names:\n",
    "\n",
    "```\n",
    "<tag k=\"addr:street\" v=\"Hollenbeck Ave\">\n",
    "<tag k=\"addr:street\" v=\"Crane st\">\n",
    "```\n",
    "\n",
    "- Different Styles of Cities and State Names:\n",
    "\n",
    "```\n",
    "\"ca\", \"CA\", \"California\"`\n",
    "\"157\", 'Sunnyvale, CA'\n",
    "'cupertino', 'San José'\n",
    "```\n",
    "\n",
    "- Inconsistent second level \"k\": `'AREAID', 'AWATER', 'Acres'`\n",
    "- Inconsistent postal codes: `'CA 95014', 'CUPERTINO'`\n",
    "```"
   ]
  },
  {
   "cell_type": "markdown",
   "metadata": {},
   "source": [
    "### <a name=\"1.1\"></a>Over-abbreviated Street Names"
   ]
  },
  {
   "cell_type": "markdown",
   "metadata": {},
   "source": [
    "I use below function in `audit.py` to fix the over-abbreviated street names and the `mapping_streetname` dictionaries defined to according to the previous database exploring."
   ]
  },
  {
   "cell_type": "markdown",
   "metadata": {},
   "source": [
    "```python\n",
    "def update_name(name, mapping=mapping_streetname):\n",
    "    words = name.split()\n",
    "    for w in range(len(words)):\n",
    "        if words[w] in mapping:\n",
    "            if words[w­].lower() not in ['suite', 'ste.', 'ste']:\n",
    "                # For example, don't update 'Suite E' to 'Suite East'\n",
    "                words[w] = mapping[words[w]]\n",
    "                name = \" \".join(words)\n",
    "    return name\n",
    "```"
   ]
  },
  {
   "cell_type": "markdown",
   "metadata": {},
   "source": [
    "### <a name=\"1.2\"></a>Different Styles of Cities and State Names"
   ]
  },
  {
   "cell_type": "markdown",
   "metadata": {},
   "source": [
    "Luckily, there are only 7 cities and one state in choosen area, so I use the most common name to replace the inconsistent names of cities and state by below code:"
   ]
  },
  {
   "cell_type": "markdown",
   "metadata": {},
   "source": [
    "```python\n",
    "def update_city(name, mapping=mapping_cityandstatename):\n",
    "    if name in mapping:\n",
    "        name = mapping[name]\n",
    "    return name\n",
    "```"
   ]
  },
  {
   "cell_type": "markdown",
   "metadata": {},
   "source": [
    "### <a name=\"1.3\"></a>Inconsistent second level \"k\""
   ]
  },
  {
   "cell_type": "markdown",
   "metadata": {},
   "source": [
    "I solve it simply by using `.lower()` feature of `string` without difining new fuction."
   ]
  },
  {
   "cell_type": "markdown",
   "metadata": {},
   "source": [
    "### <a name=\"1.4\"></a>Inconsistent postal codes"
   ]
  },
  {
   "cell_type": "markdown",
   "metadata": {},
   "source": [
    "There're two problems of the postal codes. First, the code with abbreviation of california, and the second it uses city name not a postal code. In this step, I only fix the first problem by extracting the digital part of postal codes."
   ]
  },
  {
   "cell_type": "markdown",
   "metadata": {},
   "source": [
    "```python\n",
    "error_post = re.compile(r'(^\\D*)(\\s)(\\d.*)')\n",
    "\n",
    "def update_post(post):\n",
    "    if error_post.search(post):\n",
    "        post = error_post.match(post)[3]\n",
    "    return post\n",
    "```"
   ]
  },
  {
   "cell_type": "markdown",
   "metadata": {},
   "source": [
    "## <a name=\"2\"></a>2.Data Overview"
   ]
  },
  {
   "cell_type": "markdown",
   "metadata": {},
   "source": [
    "### <a name=\"2.1\"></a>SQL"
   ]
  },
  {
   "cell_type": "markdown",
   "metadata": {},
   "source": [
    "By modifying code from course for shaping data and combining above clean code, I executed `toCSV.py` to transform audited and cleaned data to `csv` files. Then, I imported these files into a local SQLite database with code below:"
   ]
  },
  {
   "cell_type": "markdown",
   "metadata": {},
   "source": [
    "Import `.csv` data into `OSM.db`\n",
    "\n",
    "```sql\n",
    ".read data_wrangling_schema.sql\n",
    ".import nodes.csv nodes\n",
    ".import nodes_tags.csv nodes_tags\n",
    ".import ways.csv ways\n",
    ".import ways_tags.csv ways_tags\n",
    ".import ways_nodes.csv ways_nodes\n",
    "```"
   ]
  },
  {
   "cell_type": "markdown",
   "metadata": {},
   "source": [
    "Connect to python `sqlite3` API"
   ]
  },
  {
   "cell_type": "code",
   "execution_count": 9,
   "metadata": {
    "collapsed": true
   },
   "outputs": [],
   "source": [
    "import sqlite3"
   ]
  },
  {
   "cell_type": "code",
   "execution_count": 10,
   "metadata": {
    "collapsed": true
   },
   "outputs": [],
   "source": [
    "db = sqlite3.connect(\"SQL/OSM.db\")\n",
    "c = db.cursor()"
   ]
  },
  {
   "cell_type": "markdown",
   "metadata": {},
   "source": [
    "#### File sizes"
   ]
  },
  {
   "cell_type": "markdown",
   "metadata": {},
   "source": [
    "```\n",
    "PaloAlto_MountainView_USA.osm ... 308.4 MB\n",
    "OSM.db .......................... 162.8 MB\n",
    "nodes.csv ....................... 121.3 MB\n",
    "nodes_tags.csv .................. 2.6 MB\n",
    "ways.csv ........................ 9.8 MB\n",
    "ways_tags.csv ................... 17.9 MB\n",
    "ways_nodes.csv .................. 38.9 MB\n",
    "```"
   ]
  },
  {
   "cell_type": "markdown",
   "metadata": {},
   "source": [
    "#### Checkout quality of audited database"
   ]
  },
  {
   "cell_type": "code",
   "execution_count": 127,
   "metadata": {
    "scrolled": true
   },
   "outputs": [
    {
     "data": {
      "text/plain": [
       "[(u'30188', 1),\n",
       " (u'515', 1),\n",
       " (u'94025-1246', 1),\n",
       " (u'94035', 1),\n",
       " (u'94035-0016', 1),\n",
       " (u'9404', 1),\n",
       " (u'94043-3421', 1),\n",
       " (u'94084', 1),\n",
       " (u'94087-2248', 1),\n",
       " (u'94087\\u200e', 1)]"
      ]
     },
     "execution_count": 127,
     "metadata": {},
     "output_type": "execute_result"
    }
   ],
   "source": [
    "### check postcode\n",
    "query = '''select tags.value, count(*) as count\n",
    "           from (select * from nodes_tags\n",
    "                 union all\n",
    "                select * from ways_tags) tags\n",
    "            where tags.key = 'postcode'\n",
    "            group by tags.value\n",
    "            order by count\n",
    "            limit 10'''\n",
    "c.execute(query)\n",
    "c.fetchall()"
   ]
  },
  {
   "cell_type": "code",
   "execution_count": 131,
   "metadata": {},
   "outputs": [
    {
     "data": {
      "text/plain": [
       "[(112708857, u'postcode', u'515', u'addr'),\n",
       " (264858644, u'postcode', u'30188', u'addr')]"
      ]
     },
     "execution_count": 131,
     "metadata": {},
     "output_type": "execute_result"
    }
   ],
   "source": [
    "### look over inconsistent data\n",
    "query = '''select *\n",
    "           from (select * from nodes_tags\n",
    "                 union all\n",
    "                select * from ways_tags) tags\n",
    "            where tags.key='postcode'\n",
    "            and (tags.value = '30188'\n",
    "            or tags.value = '515')\n",
    "            '''\n",
    "c.execute(query)\n",
    "c.fetchall()"
   ]
  },
  {
   "cell_type": "code",
   "execution_count": 147,
   "metadata": {},
   "outputs": [
    {
     "data": {
      "text/plain": [
       "[(112708857, u'source', u'bing', u'regular'),\n",
       " (112708857, u'building', u'yes', u'regular'),\n",
       " (112708857, u'postcode', u'515', u'addr'),\n",
       " (112708857, u'housenumber', u'515', u'addr'),\n",
       " (264858644, u'city', u'Mountain View', u'addr'),\n",
       " (264858644, u'street', u'Escuela Avenue', u'addr'),\n",
       " (264858644, u'postcode', u'30188', u'addr'),\n",
       " (264858644, u'housenumber', u'586', u'addr')]"
      ]
     },
     "execution_count": 147,
     "metadata": {},
     "output_type": "execute_result"
    }
   ],
   "source": [
    "query = '''select * from ways_tags where id=112708857 or id=264858644 and type = 'addr'\n",
    "'''\n",
    "c.execute(query)\n",
    "c.fetchall()"
   ]
  },
  {
   "cell_type": "markdown",
   "metadata": {},
   "source": [
    "By searching online, I found that the address with '30188' postcode is a wrong, and the right postcode should be '94040'. Thus, I rectified the data with sqlite code below:"
   ]
  },
  {
   "cell_type": "markdown",
   "metadata": {},
   "source": [
    "```sql\n",
    "update ways_tags set value='94040' where (id=264858644 and key='postcode');\n",
    "```"
   ]
  },
  {
   "cell_type": "code",
   "execution_count": 150,
   "metadata": {},
   "outputs": [
    {
     "data": {
      "text/plain": [
       "[(112708857, u'source', u'bing', u'regular'),\n",
       " (112708857, u'building', u'yes', u'regular'),\n",
       " (112708857, u'postcode', u'515', u'addr'),\n",
       " (112708857, u'housenumber', u'515', u'addr'),\n",
       " (264858644, u'city', u'Mountain View', u'addr'),\n",
       " (264858644, u'street', u'Escuela Avenue', u'addr'),\n",
       " (264858644, u'postcode', u'94040', u'addr'),\n",
       " (264858644, u'housenumber', u'586', u'addr')]"
      ]
     },
     "execution_count": 150,
     "metadata": {},
     "output_type": "execute_result"
    }
   ],
   "source": [
    "query = '''select * from ways_tags where id=112708857 or id=264858644 and type = 'addr'\n",
    "'''\n",
    "c.execute(query)\n",
    "c.fetchall()"
   ]
  },
  {
   "cell_type": "markdown",
   "metadata": {},
   "source": [
    "Because I couldn't find enough data to know where is the '515' address, I decide to leave it in database"
   ]
  },
  {
   "cell_type": "markdown",
   "metadata": {},
   "source": [
    "#### Number of nodes"
   ]
  },
  {
   "cell_type": "code",
   "execution_count": 81,
   "metadata": {},
   "outputs": [
    {
     "data": {
      "text/plain": [
       "1441121"
      ]
     },
     "execution_count": 81,
     "metadata": {},
     "output_type": "execute_result"
    }
   ],
   "source": [
    "query = '''select count(*) from nodes'''\n",
    "c.execute(query)\n",
    "c.fetchall()[0][0]"
   ]
  },
  {
   "cell_type": "markdown",
   "metadata": {},
   "source": [
    "#### Number of ways"
   ]
  },
  {
   "cell_type": "code",
   "execution_count": 82,
   "metadata": {},
   "outputs": [
    {
     "data": {
      "text/plain": [
       "162720"
      ]
     },
     "execution_count": 82,
     "metadata": {},
     "output_type": "execute_result"
    }
   ],
   "source": [
    "query = '''select count(*) from ways'''\n",
    "c.execute(query)\n",
    "c.fetchall()[0][0]"
   ]
  },
  {
   "cell_type": "markdown",
   "metadata": {},
   "source": [
    "#### The distribution of version of nodes and ways"
   ]
  },
  {
   "cell_type": "code",
   "execution_count": 11,
   "metadata": {
    "collapsed": true
   },
   "outputs": [],
   "source": [
    "query = '''select e.version, count(*) as num\n",
    "           from (select version from nodes union all\n",
    "           select version from ways) e\n",
    "           group by version\n",
    "           order by num desc'''\n",
    "c.execute(query)\n",
    "version_dist = c.fetchall()"
   ]
  },
  {
   "cell_type": "code",
   "execution_count": 12,
   "metadata": {},
   "outputs": [
    {
     "name": "stdout",
     "output_type": "stream",
     "text": [
      "    0        1\n",
      "0   1  1025351\n",
      "1   2   448139\n",
      "2   3    78139\n",
      "3   4    24148\n",
      "4   5    10546\n",
      "5   6     5840\n",
      "6   7     3483\n",
      "7   8     2086\n",
      "8   9     1453\n",
      "9  10      995\n"
     ]
    }
   ],
   "source": [
    "import pandas as pd    \n",
    "df = pd.DataFrame(version_dist)\n",
    "print df[:10]"
   ]
  },
  {
   "cell_type": "markdown",
   "metadata": {},
   "source": [
    "#### Top 10 nodes shared with ways"
   ]
  },
  {
   "cell_type": "code",
   "execution_count": 117,
   "metadata": {
    "scrolled": true
   },
   "outputs": [
    {
     "data": {
      "text/plain": [
       "[(65560159, u'Escalon Ave ends here', 3),\n",
       " (3404870013, u'Calabazas Step-Up Jump', 3),\n",
       " (65387340, u'SR07', 2),\n",
       " (267888019, u'575', 2),\n",
       " (1389239042, u'Google Building 1965 lobby', 2),\n",
       " (2697101145, u'In Her Shoes', 2),\n",
       " (3176076002, u'RR03', 2),\n",
       " (3537007147, u'Loft House Leasing Office', 2),\n",
       " (4097853389, u'gate', 2),\n",
       " (4227636890, u'SR03', 2)]"
      ]
     },
     "execution_count": 117,
     "metadata": {},
     "output_type": "execute_result"
    }
   ],
   "source": [
    "query = '''select ways_nodes.node_id, i.value, count(*) as num\n",
    "           from ways_nodes\n",
    "               join (select distinct(id), * from nodes_tags\n",
    "           where nodes_tags.key = 'name') i\n",
    "               on  ways_nodes.node_id = i.id\n",
    "           group by ways_nodes.node_id\n",
    "           order by num desc\n",
    "           limit 10;'''\n",
    "c.execute(query)\n",
    "c.fetchall()"
   ]
  },
  {
   "cell_type": "markdown",
   "metadata": {},
   "source": [
    "#### The number of Library and University"
   ]
  },
  {
   "cell_type": "markdown",
   "metadata": {},
   "source": [
    "I'd like to continue education in this area, so I'm interested in how many libraries and universities in this area. Library:"
   ]
  },
  {
   "cell_type": "code",
   "execution_count": 191,
   "metadata": {},
   "outputs": [
    {
     "data": {
      "text/plain": [
       "17"
      ]
     },
     "execution_count": 191,
     "metadata": {},
     "output_type": "execute_result"
    }
   ],
   "source": [
    "query = '''select count(*) from\n",
    "           (select distinct(id) from nodes_tags where\n",
    "           value='library')\n",
    "        '''\n",
    "c.execute(query)\n",
    "c.fetchall()[0][0]"
   ]
  },
  {
   "cell_type": "markdown",
   "metadata": {},
   "source": [
    "University:"
   ]
  },
  {
   "cell_type": "code",
   "execution_count": 161,
   "metadata": {},
   "outputs": [
    {
     "data": {
      "text/plain": [
       "2"
      ]
     },
     "execution_count": 161,
     "metadata": {},
     "output_type": "execute_result"
    }
   ],
   "source": [
    "query = '''select count(*) from\n",
    "           (select distinct(id) from nodes_tags where\n",
    "           value='university')\n",
    "        '''\n",
    "c.execute(query)\n",
    "c.fetchall()[0][0]"
   ]
  },
  {
   "cell_type": "markdown",
   "metadata": {},
   "source": [
    "### <a name=\"2.2\"></a>MongoDB"
   ]
  },
  {
   "cell_type": "markdown",
   "metadata": {},
   "source": [
    "Same as SQL, I executed `toJSON` for shaping the data into `JSON` file, and then I imported data into MongoDB"
   ]
  },
  {
   "cell_type": "code",
   "execution_count": 18,
   "metadata": {
    "collapsed": true
   },
   "outputs": [],
   "source": [
    "from pymongo import MongoClient, GEO2D\n",
    "import toJSON"
   ]
  },
  {
   "cell_type": "code",
   "execution_count": 21,
   "metadata": {
    "collapsed": true
   },
   "outputs": [],
   "source": [
    "client = MongoClient('mongodb://localhost:27017/')\n",
    "db = client.osm"
   ]
  },
  {
   "cell_type": "code",
   "execution_count": 13,
   "metadata": {},
   "outputs": [
    {
     "data": {
      "text/plain": [
       "<pymongo.results.InsertManyResult at 0x198acb190>"
      ]
     },
     "execution_count": 13,
     "metadata": {},
     "output_type": "execute_result"
    }
   ],
   "source": [
    "osm_map = toJSON.process_map(path)\n",
    "db.maps.insert_many(osm_map)"
   ]
  },
  {
   "cell_type": "markdown",
   "metadata": {},
   "source": [
    "#### File size:\n",
    "```\n",
    "PaloAlto_MountainView_USA.osm ....... 308.4MB\n",
    "PaloAlto_MountainView_USA.osm.json .. 345.7MB\n",
    "```"
   ]
  },
  {
   "cell_type": "markdown",
   "metadata": {},
   "source": [
    "#### Number of documents, nodes, ways and positions"
   ]
  },
  {
   "cell_type": "code",
   "execution_count": 6,
   "metadata": {},
   "outputs": [
    {
     "data": {
      "text/plain": [
       "1603841"
      ]
     },
     "execution_count": 6,
     "metadata": {},
     "output_type": "execute_result"
    }
   ],
   "source": [
    "db.maps.find().count()"
   ]
  },
  {
   "cell_type": "code",
   "execution_count": 15,
   "metadata": {},
   "outputs": [
    {
     "data": {
      "text/plain": [
       "1441121"
      ]
     },
     "execution_count": 15,
     "metadata": {},
     "output_type": "execute_result"
    }
   ],
   "source": [
    "db.maps.find({\"type\": \"node\"}).count()"
   ]
  },
  {
   "cell_type": "code",
   "execution_count": 16,
   "metadata": {},
   "outputs": [
    {
     "data": {
      "text/plain": [
       "162720"
      ]
     },
     "execution_count": 16,
     "metadata": {},
     "output_type": "execute_result"
    }
   ],
   "source": [
    "db.maps.find({\"type\": \"way\"}).count()"
   ]
  },
  {
   "cell_type": "code",
   "execution_count": 17,
   "metadata": {},
   "outputs": [
    {
     "data": {
      "text/plain": [
       "1441121"
      ]
     },
     "execution_count": 17,
     "metadata": {},
     "output_type": "execute_result"
    }
   ],
   "source": [
    "db.maps.find({\"pos\":{\"$exists\":1}}).count()"
   ]
  },
  {
   "cell_type": "markdown",
   "metadata": {},
   "source": [
    "Also, I need to update the wrong postcode manually:"
   ]
  },
  {
   "cell_type": "code",
   "execution_count": 18,
   "metadata": {},
   "outputs": [
    {
     "name": "stderr",
     "output_type": "stream",
     "text": [
      "/Users/ElsaW/anaconda/envs/py2/lib/python2.7/site-packages/ipykernel_launcher.py:3: DeprecationWarning: save is deprecated. Use insert_one or replace_one instead\n",
      "  This is separate from the ipykernel package so we can avoid doing imports until\n"
     ]
    },
    {
     "data": {
      "text/plain": [
       "ObjectId('596c18bb0a36f707180608a0')"
      ]
     },
     "execution_count": 18,
     "metadata": {},
     "output_type": "execute_result"
    }
   ],
   "source": [
    "node = db.maps.find_one({\"id\":\"264858644\"})\n",
    "node['address']['postcode'] = \"94040\"\n",
    "db.maps.save(node)"
   ]
  },
  {
   "cell_type": "markdown",
   "metadata": {},
   "source": [
    "#### Sort postcodes by counting"
   ]
  },
  {
   "cell_type": "code",
   "execution_count": 213,
   "metadata": {
    "collapsed": true
   },
   "outputs": [],
   "source": [
    "result = db.maps.aggregate([{\"$match\":{\"address.postcode\":{\"$exists\":1}}}, \n",
    "                   {\"$group\":{\"_id\":\"$address.postcode\", \"count\":{\"$sum\":1}}}, \n",
    "                   {\"$sort\":{\"count\":1}},\n",
    "                   {\"$limit\":10}                  \n",
    "                  ])"
   ]
  },
  {
   "cell_type": "markdown",
   "metadata": {},
   "source": [
    "#### Sort street by counting"
   ]
  },
  {
   "cell_type": "code",
   "execution_count": 218,
   "metadata": {
    "collapsed": true
   },
   "outputs": [],
   "source": [
    "result = db.maps.aggregate([{\"$match\":{\"address.street\":{\"$exists\":1}}}, \n",
    "                   {\"$group\":{\"_id\":\"$address.street\", \"count\":{\"$sum\":1}}}, \n",
    "                   {\"$sort\":{\"count\":1}},\n",
    "                   {\"$limit\":10}                  \n",
    "                  ])"
   ]
  },
  {
   "cell_type": "code",
   "execution_count": 219,
   "metadata": {},
   "outputs": [
    {
     "name": "stdout",
     "output_type": "stream",
     "text": [
      "{u'_id': u'Chiala Lane', u'count': 1}\n",
      "{u'_id': u'East Eaglewood Avenue', u'count': 1}\n",
      "{u'_id': u'East Charleston Road APT 9', u'count': 1}\n",
      "{u'_id': u'Leghorn Street #B', u'count': 1}\n",
      "{u'_id': u'West Portola Avenue', u'count': 1}\n",
      "{u'_id': u'Moraga Drive', u'count': 1}\n",
      "{u'_id': u'Facebook Way', u'count': 1}\n",
      "{u'_id': u'Bell Street', u'count': 1}\n",
      "{u'_id': u'Tami Way', u'count': 1}\n",
      "{u'_id': u'Whits Road', u'count': 1}\n"
     ]
    }
   ],
   "source": [
    "for i in result:\n",
    "    pprint(i)"
   ]
  },
  {
   "cell_type": "markdown",
   "metadata": {},
   "source": [
    "#### Sort city by counting"
   ]
  },
  {
   "cell_type": "code",
   "execution_count": 22,
   "metadata": {},
   "outputs": [],
   "source": [
    "result = db.maps.aggregate([{\"$match\":{\"address.city\":{\"$exists\":1}}}, \n",
    "                   {\"$group\":{\"_id\":\"$address.city\", \"count\":{\"$sum\":1}}}, \n",
    "                   {\"$sort\":{\"count\":1}},\n",
    "                   {\"$limit\":10}\n",
    "                  ])"
   ]
  },
  {
   "cell_type": "code",
   "execution_count": 23,
   "metadata": {},
   "outputs": [
    {
     "name": "stdout",
     "output_type": "stream",
     "text": [
      "{u'_id': u'155', u'count': 1}\n",
      "{u'_id': u'Santa Clara County', u'count': 1}\n",
      "{u'_id': u'', u'count': 1}\n",
      "{u'_id': u'157', u'count': 1}\n",
      "{u'_id': u'South Mary Avenue', u'count': 1}\n",
      "{u'_id': u'Moffett Field', u'count': 2}\n",
      "{u'_id': u'Saratoga', u'count': 3}\n",
      "{u'_id': u'San Jose', u'count': 3}\n",
      "{u'_id': u'Artherton', u'count': 7}\n",
      "{u'_id': u'Atherton', u'count': 10}\n"
     ]
    }
   ],
   "source": [
    "for i in result:\n",
    "    pprint(i)"
   ]
  },
  {
   "cell_type": "code",
   "execution_count": 26,
   "metadata": {},
   "outputs": [
    {
     "name": "stdout",
     "output_type": "stream",
     "text": [
      "{u'_id': ObjectId('596c18bb0a36f7071804f478'),\n",
      " u'address': {u'city': u'155', u'housenumber': u'155'}}\n",
      "{u'_id': ObjectId('596c18bb0a36f70718050ff2'),\n",
      " u'address': {u'city': u'157', u'housenumber': u'157'}}\n",
      "{u'_id': ObjectId('596c18bb0a36f7071805d382'), u'address': {u'city': u''}}\n"
     ]
    }
   ],
   "source": [
    "for find in db.maps.find({\"address.city\":{\"$in\": [\"157\", \"155\", \"\"]}}, {\"address\":1}):\n",
    "    pprint(find)"
   ]
  },
  {
   "cell_type": "markdown",
   "metadata": {},
   "source": [
    "Even after auditing and cleaning, there're still a few of documents that cannot be corrected. Take account of limited number of these data, I decide to not do anything of them."
   ]
  },
  {
   "cell_type": "markdown",
   "metadata": {},
   "source": [
    "## <a name=\"3\"></a>3.Additional Ideas"
   ]
  },
  {
   "cell_type": "markdown",
   "metadata": {},
   "source": [
    "### <a name=\"3.3\"></a>Cross-field validating of `user` value"
   ]
  },
  {
   "cell_type": "markdown",
   "metadata": {},
   "source": [
    "The dataset could provide same information by different fields and they could use to cross-validating the consistency and accuracy of the dataset. Here I'd like to use `user` and `uid` fields to improve the quality of data."
   ]
  },
  {
   "cell_type": "markdown",
   "metadata": {},
   "source": [
    "#### Imputing missing data"
   ]
  },
  {
   "cell_type": "markdown",
   "metadata": {},
   "source": [
    "During auditing, I found some value of users are empty, and I set those users' values to 'NA'. Becasue the dataset has both `uid` and `user`, It is possible to impute the `user` if they have `uid` value."
   ]
  },
  {
   "cell_type": "code",
   "execution_count": 32,
   "metadata": {
    "collapsed": true
   },
   "outputs": [],
   "source": [
    "Nas = db.maps.find({\"created.user\": \"NA\"},{\"created.uid\":1, \"_id\":0, \"created.user\":1})"
   ]
  },
  {
   "cell_type": "code",
   "execution_count": 33,
   "metadata": {},
   "outputs": [
    {
     "name": "stdout",
     "output_type": "stream",
     "text": [
      "{u'created': {u'uid': u'NA', u'user': u'NA'}}\n",
      "{u'created': {u'uid': u'NA', u'user': u'NA'}}\n",
      "{u'created': {u'uid': u'NA', u'user': u'NA'}}\n",
      "{u'created': {u'uid': u'NA', u'user': u'NA'}}\n"
     ]
    }
   ],
   "source": [
    "for na in Nas:\n",
    "    pprint(na)"
   ]
  },
  {
   "cell_type": "markdown",
   "metadata": {},
   "source": [
    "Oops, the query result is negative. It seems we can not correct those missing value from inside of this database, but it could be a good try to audit data for a larger scale."
   ]
  },
  {
   "cell_type": "markdown",
   "metadata": {},
   "source": [
    "#### Consistent of `user` and `uid`"
   ]
  },
  {
   "cell_type": "markdown",
   "metadata": {},
   "source": [
    "According to *OpenStreetMap*, each `uid` should be responded to one and only one `user`, which means the number of unique `user` should be equal to the number of `uid`."
   ]
  },
  {
   "cell_type": "markdown",
   "metadata": {},
   "source": [
    "##### Inconsistent user and uid"
   ]
  },
  {
   "cell_type": "code",
   "execution_count": 17,
   "metadata": {},
   "outputs": [
    {
     "data": {
      "text/plain": [
       "1076"
      ]
     },
     "execution_count": 17,
     "metadata": {},
     "output_type": "execute_result"
    }
   ],
   "source": [
    "len(db.maps.distinct(\"created.user\"))"
   ]
  },
  {
   "cell_type": "code",
   "execution_count": 35,
   "metadata": {},
   "outputs": [
    {
     "data": {
      "text/plain": [
       "1075"
      ]
     },
     "execution_count": 35,
     "metadata": {},
     "output_type": "execute_result"
    }
   ],
   "source": [
    "len(db.maps.distinct(\"created.uid\"))"
   ]
  },
  {
   "cell_type": "markdown",
   "metadata": {},
   "source": [
    "Interstingly, there is one more `user` name than `uid`. It breaks the consistency of `uid` and `user`. Let we find what happend:"
   ]
  },
  {
   "cell_type": "code",
   "execution_count": 50,
   "metadata": {
    "collapsed": true
   },
   "outputs": [],
   "source": [
    "result = db.maps.aggregate([\n",
    "    {\"$group\": {\"_id\": \"$created.uid\",\n",
    "                \"count\":{\"$sum\": 1},\n",
    "                \"users\": {\"$addToSet\": \"$created.user\"}}},\n",
    "    {\"$project\": {\"_id\":1,\n",
    "                  \"count\":1,\n",
    "                  \"users\": 1,\n",
    "                  \"size of name\": {\"$size\": \"$users\"}}},\n",
    "    {\"$match\": {\"size of name\": {\"$gt\": 1}}}   \n",
    "])"
   ]
  },
  {
   "cell_type": "code",
   "execution_count": 51,
   "metadata": {},
   "outputs": [
    {
     "name": "stdout",
     "output_type": "stream",
     "text": [
      "{u'_id': u'6022281',\n",
      " u'count': 70,\n",
      " u'size of name': 2,\n",
      " u'users': [u'Dana Bringas', u'Dana_Bringas']}\n"
     ]
    }
   ],
   "source": [
    "for r in result:\n",
    "    pprint(r)"
   ]
  },
  {
   "cell_type": "code",
   "execution_count": 52,
   "metadata": {},
   "outputs": [
    {
     "data": {
      "text/plain": [
       "19"
      ]
     },
     "execution_count": 52,
     "metadata": {},
     "output_type": "execute_result"
    }
   ],
   "source": [
    "db.maps.find({\"created.user\":\"Dana Bringas\"}).count()"
   ]
  },
  {
   "cell_type": "code",
   "execution_count": 53,
   "metadata": {},
   "outputs": [
    {
     "data": {
      "text/plain": [
       "51"
      ]
     },
     "execution_count": 53,
     "metadata": {},
     "output_type": "execute_result"
    }
   ],
   "source": [
    "db.maps.find({\"created.user\":\"Dana_Bringas\"}).count()"
   ]
  },
  {
   "cell_type": "markdown",
   "metadata": {},
   "source": [
    "There're different rules for blank between first and last name. Let we fix it:"
   ]
  },
  {
   "cell_type": "code",
   "execution_count": 54,
   "metadata": {},
   "outputs": [
    {
     "name": "stderr",
     "output_type": "stream",
     "text": [
      "/Users/ElsaW/anaconda/envs/py2/lib/python2.7/site-packages/ipykernel_launcher.py:4: DeprecationWarning: save is deprecated. Use insert_one or replace_one instead\n",
      "  after removing the cwd from sys.path.\n"
     ]
    }
   ],
   "source": [
    "names = db.maps.find({\"created.user\":\"Dana_Bringas\"})\n",
    "for name in names:\n",
    "    name['created']['user'] = \"Dana Bringas\"\n",
    "    db.maps.save(name)"
   ]
  },
  {
   "cell_type": "code",
   "execution_count": 56,
   "metadata": {},
   "outputs": [
    {
     "data": {
      "text/plain": [
       "1075"
      ]
     },
     "execution_count": 56,
     "metadata": {},
     "output_type": "execute_result"
    }
   ],
   "source": [
    "len(db.maps.distinct(\"created.user\"))"
   ]
  },
  {
   "cell_type": "markdown",
   "metadata": {},
   "source": [
    "#### Discussion"
   ]
  },
  {
   "cell_type": "markdown",
   "metadata": {},
   "source": [
    "For the situation like above, there could be two solutions:\n",
    "\n",
    "- remove missing or inconsistent values\n",
    "- fix them via cross-validating from inside or outside database\n",
    "\n",
    "First solution is easy and fast. Generally, for a big enough dataset, to remove small parts of data will not affect its accuracy to analysis. However, if missing and inconsistent values take too much account of the dataset, we must be really careful for making *delete* decision, because the data quality will be feasible by removing large parts of data.\n",
    "\n",
    "Second solution seems to be safer than the first one. It could be keep the total volumn of dataset and set values for each missing data. However, two possible disadvantages are still there. It's hard to ensure the data quality after imputing or correcting. Some operations to *fix* data actually mess up data. Also, if need-to-fix data is too large, the whole process will take much time and energy, which may cause the increase of cost.\n",
    "\n",
    "Thus, my suggestion for handling the missing and inconsistent data is that to balance the data size and cost. At this project, I chose to fix the data for two reasons: fist, the number of data is not too small to ignore it, there are 70 posts about the inconsistent names; second, it's relatively easy to fix it-only one name needed to update. However, the anticipated issus of this operation should be remebered. I fixed the name under the assumption that two user names are the same one, but what if they actually two users, and the system assigned the same uid for them mistakely?"
   ]
  },
  {
   "cell_type": "markdown",
   "metadata": {},
   "source": [
    "### <a name=\"3.1\"></a>Additional data exploration using SQL queries"
   ]
  },
  {
   "cell_type": "markdown",
   "metadata": {},
   "source": [
    "The OpenStreetMaps are updated by users manualy, which means that the version times show the users' concentrations on the area. To explore the `version` could time the users' behaviour when they edit the OSM online. The larger `version` value implies the high attention, vice versa."
   ]
  },
  {
   "cell_type": "code",
   "execution_count": 13,
   "metadata": {
    "collapsed": true
   },
   "outputs": [],
   "source": [
    "import matplotlib.pyplot as plt\n",
    "import matplotlib\n",
    "matplotlib.style.use('ggplot')\n",
    "%matplotlib inline "
   ]
  },
  {
   "cell_type": "code",
   "execution_count": 14,
   "metadata": {
    "collapsed": true
   },
   "outputs": [],
   "source": [
    "df = df.rename(index=str, columns={0: \"version\", 1: \"count\"})\n",
    "df = df.set_index('version')"
   ]
  },
  {
   "cell_type": "code",
   "execution_count": 15,
   "metadata": {},
   "outputs": [
    {
     "data": {
      "text/html": [
       "<div>\n",
       "<style>\n",
       "    .dataframe thead tr:only-child th {\n",
       "        text-align: right;\n",
       "    }\n",
       "\n",
       "    .dataframe thead th {\n",
       "        text-align: left;\n",
       "    }\n",
       "\n",
       "    .dataframe tbody tr th {\n",
       "        vertical-align: top;\n",
       "    }\n",
       "</style>\n",
       "<table border=\"1\" class=\"dataframe\">\n",
       "  <thead>\n",
       "    <tr style=\"text-align: right;\">\n",
       "      <th></th>\n",
       "      <th>count</th>\n",
       "    </tr>\n",
       "    <tr>\n",
       "      <th>version</th>\n",
       "      <th></th>\n",
       "    </tr>\n",
       "  </thead>\n",
       "  <tbody>\n",
       "    <tr>\n",
       "      <th>1</th>\n",
       "      <td>1025351</td>\n",
       "    </tr>\n",
       "    <tr>\n",
       "      <th>2</th>\n",
       "      <td>448139</td>\n",
       "    </tr>\n",
       "    <tr>\n",
       "      <th>3</th>\n",
       "      <td>78139</td>\n",
       "    </tr>\n",
       "    <tr>\n",
       "      <th>4</th>\n",
       "      <td>24148</td>\n",
       "    </tr>\n",
       "    <tr>\n",
       "      <th>5</th>\n",
       "      <td>10546</td>\n",
       "    </tr>\n",
       "    <tr>\n",
       "      <th>6</th>\n",
       "      <td>5840</td>\n",
       "    </tr>\n",
       "    <tr>\n",
       "      <th>7</th>\n",
       "      <td>3483</td>\n",
       "    </tr>\n",
       "    <tr>\n",
       "      <th>8</th>\n",
       "      <td>2086</td>\n",
       "    </tr>\n",
       "    <tr>\n",
       "      <th>9</th>\n",
       "      <td>1453</td>\n",
       "    </tr>\n",
       "    <tr>\n",
       "      <th>10</th>\n",
       "      <td>995</td>\n",
       "    </tr>\n",
       "  </tbody>\n",
       "</table>\n",
       "</div>"
      ],
      "text/plain": [
       "           count\n",
       "version         \n",
       "1        1025351\n",
       "2         448139\n",
       "3          78139\n",
       "4          24148\n",
       "5          10546\n",
       "6           5840\n",
       "7           3483\n",
       "8           2086\n",
       "9           1453\n",
       "10           995"
      ]
     },
     "execution_count": 15,
     "metadata": {},
     "output_type": "execute_result"
    }
   ],
   "source": [
    "df[:10]"
   ]
  },
  {
   "cell_type": "code",
   "execution_count": 27,
   "metadata": {},
   "outputs": [
    {
     "data": {
      "text/plain": [
       "<matplotlib.axes._subplots.AxesSubplot at 0x11351e590>"
      ]
     },
     "execution_count": 27,
     "metadata": {},
     "output_type": "execute_result"
    },
    {
     "data": {
      "image/png": "[encoded data removed]",
      "text/plain": [
       "<matplotlib.figure.Figure at 0x10c8bee90>"
      ]
     },
     "metadata": {},
     "output_type": "display_data"
    }
   ],
   "source": [
    "df.plot()"
   ]
  },
  {
   "cell_type": "markdown",
   "metadata": {},
   "source": [
    "Most of (over 63%) nodes and ways at this area are just edited once, 28% of nodes and ways are updated once after first inputing, only about 5% nodes and ways are updated twice after first inputing. This result implies that the data of OSM in this area might be out of date to some extent."
   ]
  },
  {
   "cell_type": "markdown",
   "metadata": {},
   "source": [
    "Also, some nodes and ways show the unusal high version, such as 83 times updated and 145 times updated. Let we explore them and try to find the reason by the data."
   ]
  },
  {
   "cell_type": "code",
   "execution_count": 291,
   "metadata": {},
   "outputs": [
    {
     "data": {
      "text/plain": [
       "[(4786675, u'n76', 318696, 145, 17945349, u'2013-09-20T19:04:10Z'),\n",
       " (4809373, u'nikhilprabhakar', 2835928, 83, 38445809, u'2016-04-10T09:12:58Z')]"
      ]
     },
     "execution_count": 291,
     "metadata": {},
     "output_type": "execute_result"
    }
   ],
   "source": [
    "query = '''select *\n",
    "           from ways\n",
    "            where version = 83 or version = 145\n",
    "            '''\n",
    "c.execute(query)\n",
    "c.fetchall()"
   ]
  },
  {
   "cell_type": "code",
   "execution_count": 28,
   "metadata": {},
   "outputs": [
    {
     "data": {
      "text/plain": [
       "[(4786675, u'hgv', u'designated', u'regular'),\n",
       " (4786675, u'ref', u'I 280', u'regular'),\n",
       " (4786675, u'foot', u'no', u'regular'),\n",
       " (4786675, u'name', u'Junipero Serra Freeway', u'regular'),\n",
       " (4786675, u'horse', u'no', u'regular')]"
      ]
     },
     "execution_count": 28,
     "metadata": {},
     "output_type": "execute_result"
    }
   ],
   "source": [
    "query = '''select *\n",
    "           from ways_tags\n",
    "           where id = 4786675 or id = 4809373\n",
    "           limit 5\n",
    "        '''\n",
    "c.execute(query)\n",
    "c.fetchall()"
   ]
  },
  {
   "cell_type": "markdown",
   "metadata": {},
   "source": [
    "The exploration shows that two unusual updated points are road type ways. Their high number of number may be caused by road construction or traffic rules changes frequently..."
   ]
  },
  {
   "cell_type": "markdown",
   "metadata": {},
   "source": [
    "##### Top 10 appearing amenties"
   ]
  },
  {
   "cell_type": "code",
   "execution_count": 306,
   "metadata": {},
   "outputs": [
    {
     "data": {
      "text/plain": [
       "[(u'restaurant', 388),\n",
       " (u'bicycle_parking', 356),\n",
       " (u'bench', 302),\n",
       " (u'post_box', 191),\n",
       " (u'cafe', 151),\n",
       " (u'fast_food', 126),\n",
       " (u'drinking_water', 110),\n",
       " (u'parking_entrance', 75),\n",
       " (u'toilets', 74),\n",
       " (u'atm', 55)]"
      ]
     },
     "execution_count": 306,
     "metadata": {},
     "output_type": "execute_result"
    }
   ],
   "source": [
    "query = '''select value, count(*) as num\n",
    "           from nodes_tags\n",
    "            where key = \"amenity\"\n",
    "            group by value\n",
    "            order by num desc\n",
    "            limit 10;\n",
    "            '''\n",
    "c.execute(query)\n",
    "c.fetchall()"
   ]
  },
  {
   "cell_type": "markdown",
   "metadata": {},
   "source": [
    "##### Top 10 most popular type of cafe"
   ]
  },
  {
   "cell_type": "code",
   "execution_count": 32,
   "metadata": {},
   "outputs": [
    {
     "data": {
      "text/plain": [
       "[(u'coffee_shop', 24),\n",
       " (u'american', 4),\n",
       " (u'bubble_tea', 3),\n",
       " (u'tea', 3),\n",
       " (u'bagels', 2),\n",
       " (u'regional', 2),\n",
       " (u'sandwich', 2),\n",
       " (u'Japanese', 1),\n",
       " (u'Mexican, salads, sandwiches, gelato, frittata, cakes', 1),\n",
       " (u'bagel', 1)]"
      ]
     },
     "execution_count": 32,
     "metadata": {},
     "output_type": "execute_result"
    }
   ],
   "source": [
    "query = '''select nodes_tags.value, count(*) as num\n",
    "           from nodes_tags\n",
    "                join (select distinct(id) from nodes_tags where value=\"cafe\") i\n",
    "                on nodes_tags.id= i.id\n",
    "            where nodes_tags.key=\"cuisine\"\n",
    "            group by value\n",
    "            order by num desc\n",
    "            limit 10;\n",
    "            '''\n",
    "c.execute(query)\n",
    "c.fetchall()"
   ]
  },
  {
   "cell_type": "markdown",
   "metadata": {},
   "source": [
    "### <a name=\"3.2\"></a>Additional data exploration using MongoDB queries\n"
   ]
  },
  {
   "cell_type": "code",
   "execution_count": 35,
   "metadata": {},
   "outputs": [
    {
     "data": {
      "text/plain": [
       "u'pos_2d'"
      ]
     },
     "execution_count": 35,
     "metadata": {},
     "output_type": "execute_result"
    }
   ],
   "source": [
    "## Create geospatial indexing\n",
    "db.maps.create_index([(\"pos\", GEO2D)])"
   ]
  },
  {
   "cell_type": "markdown",
   "metadata": {},
   "source": [
    "Well, I'm planing to visit Google at Mountain View, so I'd like to explore the Google area and make a *perfect plan* before I leave :)"
   ]
  },
  {
   "cell_type": "code",
   "execution_count": 332,
   "metadata": {},
   "outputs": [
    {
     "data": {
      "text/plain": [
       "{u'name': u'Google Visitor Center', u'pos': [37.4194653, -122.0875371]}"
      ]
     },
     "execution_count": 332,
     "metadata": {},
     "output_type": "execute_result"
    }
   ],
   "source": [
    "### Find Google GPS location\n",
    "db.maps.find_one({\"name\": \"Google Visitor Center\"},{\"name\": 1, \"pos\": 1, \"_id\": 0})"
   ]
  },
  {
   "cell_type": "markdown",
   "metadata": {},
   "source": [
    "##### Top 5 neareast restaurants around Google"
   ]
  },
  {
   "cell_type": "code",
   "execution_count": 36,
   "metadata": {},
   "outputs": [],
   "source": [
    "result = db.maps.aggregate(\n",
    "[{\"$geoNear\":{\n",
    "    \"near\":[37.4194653, -122.0875371],\n",
    "    \"distanceField\": \"distance\",\n",
    "    \"maxDistance\": 1000,\n",
    "    \"query\": {\"amenity\": \"restaurant\"},\n",
    "    }},\n",
    " {\"$project\": {\"phone\":1, \"name\" :1, \"_id\": 0, \"distance\":1, \"cuisine\":1, \"address\": 1, }},\n",
    " {\"$sort\": {\"distance\": 1}},\n",
    " {\"$limit\":5}\n",
    "])"
   ]
  },
  {
   "cell_type": "code",
   "execution_count": 37,
   "metadata": {},
   "outputs": [
    {
     "name": "stdout",
     "output_type": "stream",
     "text": [
      "{u'address': {u'city': u'Mountain View',\n",
      "              u'housenumber': u'2025',\n",
      "              u'postcode': u'94043',\n",
      "              u'state': u'California',\n",
      "              u'street': u'Garcia Avenue'},\n",
      " u'distance': 0.006216221875054424,\n",
      " u'name': u'Crave'}\n",
      "{u'distance': 0.008263659253622616, u'name': u'Evolution Cafe'}\n",
      "{u'cuisine': u'indian;pakistani',\n",
      " u'distance': 0.00873932670747542,\n",
      " u'name': u'Zareen\\u2019s'}\n",
      "{u'address': {u'city': u'Mountain View',\n",
      "              u'housenumber': u'2430',\n",
      "              u'postcode': u'94043',\n",
      "              u'state': u'California',\n",
      "              u'street': u'East Charleston Road'},\n",
      " u'cuisine': u'barbecue',\n",
      " u'distance': 0.009234248188122927,\n",
      " u'name': u'L&L Hawaiian Barbecue'}\n",
      "{u'address': {u'city': u'Mountain View',\n",
      "              u'housenumber': u'1390',\n",
      "              u'postcode': u'94043',\n",
      "              u'state': u'California',\n",
      "              u'street': u'Pear Avenue'},\n",
      " u'cuisine': u'italian',\n",
      " u'distance': 0.010523310430669652,\n",
      " u'name': u'Cucina Venti'}\n"
     ]
    }
   ],
   "source": [
    "for i in result:\n",
    "    pprint(i)"
   ]
  },
  {
   "cell_type": "markdown",
   "metadata": {},
   "source": [
    "##### Check most popular cuisine wihtin 5km around Google"
   ]
  },
  {
   "cell_type": "code",
   "execution_count": 410,
   "metadata": {
    "collapsed": true
   },
   "outputs": [],
   "source": [
    "result = db.maps.aggregate(\n",
    "[{\"$geoNear\":{\n",
    "    \"near\":[37.4194653, -122.0875371],\n",
    "    \"distanceField\": \"distance\",\n",
    "    \"maxDistance\": 5000,\n",
    "    \"query\": {\"amenity\": \"restaurant\"}\n",
    "    }},\n",
    " {\"$group\": {\"_id\":\"$cuisine\", \"count\":{\"$sum\":1}}},\n",
    " {\"$sort\": {\"count\": -1}},\n",
    " {\"$limit\": 10}\n",
    "])"
   ]
  },
  {
   "cell_type": "code",
   "execution_count": 411,
   "metadata": {},
   "outputs": [
    {
     "name": "stdout",
     "output_type": "stream",
     "text": [
      "{u'_id': None, u'count': 17}\n",
      "{u'_id': u'japanese', u'count': 12}\n",
      "{u'_id': u'pizza', u'count': 9}\n",
      "{u'_id': u'mexican', u'count': 8}\n",
      "{u'_id': u'chinese', u'count': 7}\n",
      "{u'_id': u'vietnamese', u'count': 5}\n",
      "{u'_id': u'indian', u'count': 5}\n",
      "{u'_id': u'american', u'count': 4}\n",
      "{u'_id': u'burger', u'count': 3}\n",
      "{u'_id': u'asian', u'count': 3}\n"
     ]
    }
   ],
   "source": [
    "for i in result:\n",
    "    pprint(i)"
   ]
  },
  {
   "cell_type": "markdown",
   "metadata": {},
   "source": [
    "## Conclusion"
   ]
  },
  {
   "cell_type": "markdown",
   "metadata": {},
   "source": [
    "This project simply overviewed the aspects of `OpenStreetMap` data around **Mountain View** and **Palo Alto** and checked the user updated behaviours wiht `SQL` and eating condition near Google with `MongoDB`."
   ]
  }
 ],
 "metadata": {
  "kernelspec": {
   "display_name": "Python 2",
   "language": "python",
   "name": "python2"
  },
  "language_info": {
   "codemirror_mode": {
    "name": "ipython",
    "version": 2
   },
   "file_extension": ".py",
   "mimetype": "text/x-python",
   "name": "python",
   "nbconvert_exporter": "python",
   "pygments_lexer": "ipython2",
   "version": "2.7.13"
  }
 },
 "nbformat": 4,
 "nbformat_minor": 2
}
