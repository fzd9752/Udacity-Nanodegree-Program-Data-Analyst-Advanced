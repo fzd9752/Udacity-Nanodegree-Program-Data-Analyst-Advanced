{
 "cells": [
  {
   "cell_type": "markdown",
   "metadata": {},
   "source": [
    "# OpenStreetMap Sample Project \n",
    "## Data Wrangling with SQL and MongoDB\n",
    "### *Elsa(Yishu) Wang*"
   ]
  },
  {
   "cell_type": "markdown",
   "metadata": {},
   "source": [
    "Map Area: Around **Mountain View** and **Palo Alto**, CA, USA\n",
    "https://mapzen.com/data/metro-extracts/your-extracts/0e538ffd2c40"
   ]
  },
  {
   "cell_type": "markdown",
   "metadata": {},
   "source": [
    "[1.Problems Encountered in the Map](#1)\n",
    "- [Over-abbreviated Street Names](#1.1)\n",
    "- [Different Styles of Cities and State Names](#1.2)\n",
    "- [Inconsistent second level `\"k\"`](#1.3)\n",
    "- [Inconsistent postal codes](#1.4)\n",
    "\n",
    "[2.Data Overview](#2)\n",
    "- [SQL](#2.1)\n",
    "- [MongoDB](#2.2)\n",
    "\n",
    "[3.Other Ideas about the datasets](#3)\n",
    "\n",
    "[3.Additional Ideas](#3)\n",
    "- [Cross-field validating of `user` value](3.3)\n",
    "- [Additional data exploration using SQL queries](*3.1)\n",
    "- [Additional data exploration using MongoDB queries](*3.2)"
   ]
  },
  {
   "cell_type": "markdown",
   "metadata": {
    "collapsed": true
   },
   "source": [
    "## <a name=\"1\"></a>1.Problems Encountered in the Map"
   ]
  },
  {
   "cell_type": "markdown",
   "metadata": {},
   "source": [
    "After downloading the data around *Mountain View* and *Palo Alto* area, I run below code agains `data.py` to overview the fields and values:"
   ]
  },
  {
   "cell_type": "code",
   "execution_count": 1,
   "metadata": {
    "collapsed": true
   },
   "outputs": [],
   "source": [
    "import audit\n",
    "from pprint import pprint\n",
    "import xml.etree.cElementTree as ET\n",
    "\n",
    "path = 'PaloAlto_MountainView_USA.osm'"
   ]
  },
  {
   "cell_type": "markdown",
   "metadata": {},
   "source": [
    "Check the tags and their counts"
   ]
  },
  {
   "cell_type": "code",
   "execution_count": 4,
   "metadata": {},
   "outputs": [
    {
     "name": "stdout",
     "output_type": "stream",
     "text": [
      "3821393 tags found.\n",
      "{'node': 1441121, 'nd': 1616553, 'bounds': 1, 'member': 8033, 'tag': 591472, 'relation': 1492, 'way': 162720, 'osm': 1}\n"
     ]
    }
   ],
   "source": [
    "tags = audit.get_tags(path)"
   ]
  },
  {
   "cell_type": "code",
   "execution_count": 10,
   "metadata": {},
   "outputs": [
    {
     "name": "stdout",
     "output_type": "stream",
     "text": [
      "'<node changeset=\"6776161\" id=\"302863\" lat=\"37.3769826\" lon=\"-122.0677726\" timestamp=\"2010-12-27T10:41:10Z\" uid=\"14293\" user=\"KindredCoda\" version=\"4\" />\\n\\t'\n",
      "'<node changeset=\"6776161\" id=\"302864\" lat=\"37.3740667\" lon=\"-122.0679336\" timestamp=\"2010-12-27T10:39:22Z\" uid=\"14293\" user=\"KindredCoda\" version=\"5\" />\\n\\t'\n",
      "'<node changeset=\"6774664\" id=\"302865\" lat=\"37.3733004\" lon=\"-122.0677211\" timestamp=\"2010-12-27T07:44:11Z\" uid=\"14293\" user=\"KindredCoda\" version=\"4\" />\\n\\t'\n",
      "'<node changeset=\"6774664\" id=\"302866\" lat=\"37.372597\" lon=\"-122.0673831\" timestamp=\"2010-12-27T07:43:52Z\" uid=\"14293\" user=\"KindredCoda\" version=\"4\" />\\n\\t'\n",
      "'<node changeset=\"6774664\" id=\"302867\" lat=\"37.3695957\" lon=\"-122.0655646\" timestamp=\"2010-12-27T07:43:25Z\" uid=\"14293\" user=\"KindredCoda\" version=\"4\" />\\n\\t'\n",
      "'<node changeset=\"6774664\" id=\"302868\" lat=\"37.3681888\" lon=\"-122.0647116\" timestamp=\"2010-12-27T07:43:04Z\" uid=\"14293\" user=\"KindredCoda\" version=\"4\" />\\n\\t'\n"
     ]
    }
   ],
   "source": [
    "for i, element in enumerate(audit.get_element(path, tags=(\"node\"))):\n",
    "    pprint(ET.tostring(element, encoding='utf-8'))\n",
    "    if i == 5:\n",
    "        break"
   ]
  },
  {
   "cell_type": "code",
   "execution_count": 11,
   "metadata": {},
   "outputs": [
    {
     "name": "stdout",
     "output_type": "stream",
     "text": [
      "'<way changeset=\"41607115\" id=\"4304424\" timestamp=\"2016-08-22T06:17:09Z\" uid=\"933797\" user=\"oba510\" version=\"13\">\\n\\t\\t<nd ref=\"65495796\" />\\n\\t\\t<nd ref=\"280022084\" />\\n\\t\\t<nd ref=\"2425657373\" />\\n\\t\\t<nd ref=\"2425657370\" />\\n\\t\\t<nd ref=\"2425657372\" />\\n\\t\\t<nd ref=\"2425657371\" />\\n\\t\\t<nd ref=\"280022085\" />\\n\\t\\t<nd ref=\"3042421705\" />\\n\\t\\t<nd ref=\"26029084\" />\\n\\t\\t<tag k=\"lanes\" v=\"1\" />\\n\\t\\t<tag k=\"layer\" v=\"1\" />\\n\\t\\t<tag k=\"bridge\" v=\"yes\" />\\n\\t\\t<tag k=\"oneway\" v=\"yes\" />\\n\\t\\t<tag k=\"highway\" v=\"secondary_link\" />\\n\\t\\t<tag k=\"sidewalk\" v=\"no\" />\\n\\t</way>\\n\\t'\n",
      "'<way changeset=\"21185174\" id=\"4311277\" timestamp=\"2014-03-19T01:42:37Z\" uid=\"123633\" user=\"stevea\" version=\"70\">\\n\\t\\t<nd ref=\"26028708\" />\\n\\t\\t<nd ref=\"2371003215\" />\\n\\t\\t<nd ref=\"26678537\" />\\n\\t\\t<tag k=\"ref\" v=\"G6\" />\\n\\t\\t<tag k=\"name\" v=\"Central Expressway\" />\\n\\t\\t<tag k=\"note\" v=\"adding odbl tag to match split of way and remove tainted tags\" />\\n\\t\\t<tag k=\"lanes\" v=\"2\" />\\n\\t\\t<tag k=\"oneway\" v=\"yes\" />\\n\\t\\t<tag k=\"highway\" v=\"primary\" />\\n\\t\\t<tag k=\"maxspeed\" v=\"35 mph\" />\\n\\t</way>\\n\\t'\n",
      "'<way changeset=\"43242458\" id=\"4311288\" timestamp=\"2016-10-28T09:58:53Z\" uid=\"3029661\" user=\"saikabhi\" version=\"56\">\\n\\t\\t<nd ref=\"262658484\" />\\n\\t\\t<nd ref=\"30674722\" />\\n\\t\\t<nd ref=\"262658486\" />\\n\\t\\t<nd ref=\"262658495\" />\\n\\t\\t<nd ref=\"30674723\" />\\n\\t\\t<nd ref=\"262658497\" />\\n\\t\\t<tag k=\"name\" v=\"North San Antonio Road\" />\\n\\t\\t<tag k=\"lanes\" v=\"2\" />\\n\\t\\t<tag k=\"oneway\" v=\"yes\" />\\n\\t\\t<tag k=\"bicycle\" v=\"yes\" />\\n\\t\\t<tag k=\"highway\" v=\"secondary\" />\\n\\t\\t<tag k=\"cycleway:right\" v=\"lane\" />\\n\\t</way>\\n\\t'\n",
      "'<way changeset=\"49088548\" id=\"4321995\" timestamp=\"2017-05-30T00:45:53Z\" uid=\"33757\" user=\"Minh Nguyen\" version=\"5\">\\n\\t\\t<nd ref=\"519661675\" />\\n\\t\\t<nd ref=\"4884567859\" />\\n\\t\\t<nd ref=\"4884567858\" />\\n\\t\\t<nd ref=\"519661677\" />\\n\\t\\t<nd ref=\"26250230\" />\\n\\t\\t<nd ref=\"4884567860\" />\\n\\t\\t<nd ref=\"26250233\" />\\n\\t\\t<nd ref=\"78748502\" />\\n\\t\\t<tag k=\"access\" v=\"private\" />\\n\\t\\t<tag k=\"highway\" v=\"service\" />\\n\\t\\t<tag k=\"service\" v=\"driveway\" />\\n\\t</way>\\n\\t'\n",
      "'<way changeset=\"13224113\" id=\"4334869\" timestamp=\"2012-09-23T18:21:46Z\" uid=\"10786\" user=\"stucki1\" version=\"13\">\\n\\t\\t<nd ref=\"686277205\" />\\n\\t\\t<nd ref=\"686277206\" />\\n\\t\\t<nd ref=\"686277207\" />\\n\\t\\t<nd ref=\"686277208\" />\\n\\t\\t<nd ref=\"686277209\" />\\n\\t\\t<nd ref=\"686277210\" />\\n\\t\\t<nd ref=\"686277211\" />\\n\\t\\t<nd ref=\"686277212\" />\\n\\t\\t<tag k=\"name\" v=\"Zook Road\" />\\n\\t\\t<tag k=\"highway\" v=\"unclassified\" />\\n\\t</way>\\n\\t'\n",
      "'<way changeset=\"26243141\" id=\"4336012\" timestamp=\"2014-10-21T21:10:13Z\" uid=\"595221\" user=\"matthieun\" version=\"8\">\\n\\t\\t<nd ref=\"26391747\" />\\n\\t\\t<nd ref=\"26391748\" />\\n\\t\\t<nd ref=\"3142668532\" />\\n\\t\\t<nd ref=\"3142668531\" />\\n\\t\\t<nd ref=\"3142668530\" />\\n\\t\\t<nd ref=\"26391753\" />\\n\\t\\t<nd ref=\"26391770\" />\\n\\t\\t<nd ref=\"26391769\" />\\n\\t\\t<nd ref=\"26391768\" />\\n\\t\\t<nd ref=\"3142667716\" />\\n\\t\\t<nd ref=\"26391763\" />\\n\\t\\t<nd ref=\"3142667715\" />\\n\\t\\t<nd ref=\"26391764\" />\\n\\t\\t<nd ref=\"26391765\" />\\n\\t\\t<nd ref=\"3142667717\" />\\n\\t\\t<nd ref=\"26391766\" />\\n\\t\\t<nd ref=\"26391767\" />\\n\\t\\t<nd ref=\"26391762\" />\\n\\t\\t<nd ref=\"3142667718\" />\\n\\t\\t<nd ref=\"3142667719\" />\\n\\t\\t<nd ref=\"26391758\" />\\n\\t\\t<nd ref=\"3142668544\" />\\n\\t\\t<nd ref=\"3142668545\" />\\n\\t\\t<nd ref=\"26391757\" />\\n\\t\\t<nd ref=\"26391756\" />\\n\\t\\t<nd ref=\"26391755\" />\\n\\t\\t<nd ref=\"26391754\" />\\n\\t\\t<nd ref=\"26391743\" />\\n\\t\\t<nd ref=\"26391744\" />\\n\\t\\t<nd ref=\"26391746\" />\\n\\t\\t<nd ref=\"26391747\" />\\n\\t\\t<tag k=\"name\" v=\"Hangar One\" />\\n\\t\\t<tag k=\"image\" v=\"http://commons.wikimedia.org/wiki/File:Last_Look_at_Hangar_One.jpg\" />\\n\\t\\t<tag k=\"aeroway\" v=\"hangar\" />\\n\\t\\t<tag k=\"building\" v=\"yes\" />\\n\\t\\t<tag k=\"wikipedia\" v=\"en:Hangar One (Mountain View, California)\" />\\n\\t\\t<tag k=\"start_date\" v=\"1933\" />\\n\\t</way>\\n\\t'\n"
     ]
    }
   ],
   "source": [
    "for i, element in enumerate(audit.get_element(path, tags=(\"way\"))):\n",
    "    pprint(ET.tostring(element, encoding='utf-8'))\n",
    "    if i == 5:\n",
    "        break"
   ]
  },
  {
   "cell_type": "markdown",
   "metadata": {},
   "source": [
    "It seems the structures and tags of this file are similiar to the example.osm. Next, I check the value for `tag` in order to have a sense of the potential fields:"
   ]
  },
  {
   "cell_type": "code",
   "execution_count": 12,
   "metadata": {
    "scrolled": false
   },
   "outputs": [
    {
     "data": {
      "text/plain": [
       "{'ALAND',\n",
       " 'ANSICODE',\n",
       " 'AREAID',\n",
       " 'AWATER',\n",
       " 'Acres',\n",
       " 'COUNTYFP',\n",
       " 'FIXME',\n",
       " 'FMMP_modified',\n",
       " 'FMMP_reviewed',\n",
       " 'GENERIC',\n",
       " 'HFCS',\n",
       " 'MTFCC',\n",
       " 'NHS',\n",
       " 'OBJECTID',\n",
       " 'SHAPE_STAr',\n",
       " 'SHAPE_STLe',\n",
       " 'STATEFP',\n",
       " 'Tiger:HYDROID',\n",
       " 'Tiger:MTFCC',\n",
       " 'Zoning',\n",
       " 'addr:1:housenumber',\n",
       " 'addr:1:street',\n",
       " 'addr:2:housenumber',\n",
       " 'addr:3:housenumber',\n",
       " 'addr:4:housenumber',\n",
       " 'addr:4:street',\n",
       " 'addr:5:housenumber',\n",
       " 'addr:5:street',\n",
       " 'addr:6:housenumber',\n",
       " 'addr:7:housenumber',\n",
       " 'addr:8:housenumber',\n",
       " 'addr:street:suffix',\n",
       " 'addr:street:type',\n",
       " 'addr:unit_1',\n",
       " 'amenity_1',\n",
       " 'building:levels:underground',\n",
       " 'building:use:parking',\n",
       " 'building_1',\n",
       " 'change:lanes:backward',\n",
       " 'change:lanes:forward',\n",
       " 'currency:USD',\n",
       " 'destination:street:to',\n",
       " 'disused:healthcare:specialty',\n",
       " 'disused:website:official',\n",
       " 'generator:output:electricity',\n",
       " 'gnis:Class',\n",
       " 'gnis:County',\n",
       " 'gnis:County_num',\n",
       " 'gnis:ST_alpha',\n",
       " 'gnis:ST_num',\n",
       " 'is_in:iso_3166_2',\n",
       " 'leisure_1',\n",
       " 'mrosd:name_2',\n",
       " 'mrosd:name_3',\n",
       " 'mtb:scale:uphill',\n",
       " 'name2',\n",
       " 'name:zh-cn',\n",
       " 'name:zh-hant',\n",
       " 'name_1',\n",
       " 'name_2',\n",
       " 'name_3',\n",
       " 'ref:MVgo',\n",
       " 'ref:VTA',\n",
       " 'roof:slope:direction',\n",
       " 'scvwd:AREA_AC',\n",
       " 'scvwd:AREA_FT',\n",
       " 'scvwd:COVERED',\n",
       " 'scvwd:FACILITY',\n",
       " 'scvwd:NAME',\n",
       " 'scvwd:OBJECTID',\n",
       " 'scvwd:POND_NUM',\n",
       " 'scvwd:ROUTEID',\n",
       " 'scvwd:SHAPE_AREA',\n",
       " 'scvwd:SHAPE_Area',\n",
       " 'scvwd:WB_TYPE',\n",
       " 'seamark:beacon_lateral:category',\n",
       " 'seamark:beacon_lateral:colour',\n",
       " 'seamark:beacon_lateral:shape',\n",
       " 'service:bicycle:chain_tool',\n",
       " 'service:bicycle:pump',\n",
       " 'service:vehicle:oil_change',\n",
       " 'service:vehicle:used_car_sales',\n",
       " 'shop_1',\n",
       " 'sidewalk:right:kerb',\n",
       " 'sidewalk:right:surface',\n",
       " 'sidewalk_1',\n",
       " 'socket:type1',\n",
       " 'socket:type1_combo',\n",
       " 'source:addr:unit',\n",
       " 'source:capacity:disabled',\n",
       " 'source:hgv:national_network',\n",
       " 'source:hgv:state_network',\n",
       " 'tiger:CLASSFP',\n",
       " 'tiger:CPI',\n",
       " 'tiger:FUNCSTAT',\n",
       " 'tiger:LINEARID',\n",
       " 'tiger:LSAD',\n",
       " 'tiger:MTFCC',\n",
       " 'tiger:NAME',\n",
       " 'tiger:NAMELSAD',\n",
       " 'tiger:PCICBSA',\n",
       " 'tiger:PCINECTA',\n",
       " 'tiger:PLACEFP',\n",
       " 'tiger:PLACENS',\n",
       " 'tiger:PLCIDFP',\n",
       " 'tiger:RTTYP',\n",
       " 'tiger:STATEFP',\n",
       " 'tiger:name_base_1',\n",
       " 'tiger:name_base_2',\n",
       " 'tiger:name_base_3',\n",
       " 'tiger:name_direction_prefix_1',\n",
       " 'tiger:name_direction_suffix_1',\n",
       " 'tiger:name_type_1',\n",
       " 'tiger:name_type_2',\n",
       " 'tiger:name_type_3',\n",
       " 'turn:lanes:backward',\n",
       " 'turn:lanes:both_ways',\n",
       " 'turn:lanes:forward',\n",
       " 'url_1'}"
      ]
     },
     "execution_count": 12,
     "metadata": {},
     "output_type": "execute_result"
    }
   ],
   "source": [
    "keys = audit.key_type(path)\n",
    "set(keys['other'])"
   ]
  },
  {
   "cell_type": "markdown",
   "metadata": {},
   "source": [
    "Then I pick some values of k to check the details:"
   ]
  },
  {
   "cell_type": "markdown",
   "metadata": {},
   "source": [
    "```\n",
    "'addr:street' 'addr:postcode' 'addr:state' \n",
    "'addr:city' 'addr:county', 'AWATER'\n",
    "```"
   ]
  },
  {
   "cell_type": "code",
   "execution_count": 13,
   "metadata": {},
   "outputs": [
    {
     "name": "stdout",
     "output_type": "stream",
     "text": [
      "'<tag k=\"addr:street\" v=\"South Fair Oaks Avenue\" />\\n\\t\\t'\n",
      "'<tag k=\"addr:street\" v=\"West El Camino Real\" />\\n\\t\\t'\n",
      "'<tag k=\"addr:street\" v=\"West El Camino Real\" />'\n",
      "'<tag k=\"addr:street\" v=\"West El Camino Real\" />\\n\\t\\t'\n",
      "'<tag k=\"addr:street\" v=\"West El Camino Real\" />\\n\\t\\t'\n",
      "'<tag k=\"addr:street\" v=\"East El Camino Real\" />\\n\\t\\t'\n",
      "'<tag k=\"addr:street\" v=\"East Remington Drive\" />\\n\\t\\t'\n",
      "'<tag k=\"addr:street\" v=\"Hollenbeck Ave\" />\\n\\t\\t'\n",
      "'<tag k=\"addr:street\" v=\"West Evelyn Avenue\" />\\n\\t\\t'\n",
      "'<tag k=\"addr:street\" v=\"Lagunita Drive\" />\\n\\t\\t'\n"
     ]
    }
   ],
   "source": [
    "audit.find_interest(path, 'addr:street', 10)"
   ]
  },
  {
   "cell_type": "markdown",
   "metadata": {},
   "source": [
    "By looking some details of the choosen values of `k`, I noticed five main problems with the data, which I will discuss in the following order:"
   ]
  },
  {
   "cell_type": "markdown",
   "metadata": {},
   "source": [
    "- Over-abbreviated Street Names:\n",
    "\n",
    "```\n",
    "<tag k=\"addr:street\" v=\"Hollenbeck Ave\">\n",
    "<tag k=\"addr:street\" v=\"Crane st\">\n",
    "```\n",
    "\n",
    "- Different Styles of Cities and State Names:\n",
    "\n",
    "```\n",
    "\"ca\", \"CA\", \"California\"`\n",
    "\"157\", 'Sunnyvale, CA'\n",
    "'cupertino', 'San José'\n",
    "```\n",
    "\n",
    "- Inconsistent second level \"k\": `'AREAID', 'AWATER', 'Acres'`\n",
    "- Inconsistent postal codes: `'CA 95014', 'CUPERTINO'`\n",
    "```"
   ]
  },
  {
   "cell_type": "markdown",
   "metadata": {},
   "source": [
    "### <a name=\"1.1\"></a>Over-abbreviated Street Names"
   ]
  },
  {
   "cell_type": "markdown",
   "metadata": {},
   "source": [
    "I use below function in `audit.py` to fix the over-abbreviated street names and the `mapping_streetname` dictionaries defined to according to the previous database exploring."
   ]
  },
  {
   "cell_type": "markdown",
   "metadata": {},
   "source": [
    "```python\n",
    "def update_name(name, mapping=mapping_streetname):\n",
    "    words = name.split()\n",
    "    for w in range(len(words)):\n",
    "        if words[w] in mapping:\n",
    "            if words[w­].lower() not in ['suite', 'ste.', 'ste']:\n",
    "                # For example, don't update 'Suite E' to 'Suite East'\n",
    "                words[w] = mapping[words[w]]\n",
    "                name = \" \".join(words)\n",
    "    return name\n",
    "```"
   ]
  },
  {
   "cell_type": "markdown",
   "metadata": {},
   "source": [
    "### <a name=\"1.2\"></a>Different Styles of Cities and State Names"
   ]
  },
  {
   "cell_type": "markdown",
   "metadata": {},
   "source": [
    "Luckily, there are only 7 cities and one state in choosen area, so I use the most common name to replace the inconsistent names of cities and state by below code:"
   ]
  },
  {
   "cell_type": "markdown",
   "metadata": {},
   "source": [
    "```python\n",
    "def update_city(name, mapping=mapping_cityandstatename):\n",
    "    if name in mapping:\n",
    "        name = mapping[name]\n",
    "    return name\n",
    "```"
   ]
  },
  {
   "cell_type": "markdown",
   "metadata": {},
   "source": [
    "### <a name=\"1.3\"></a>Inconsistent second level \"k\""
   ]
  },
  {
   "cell_type": "markdown",
   "metadata": {},
   "source": [
    "I solve it simply by using `.lower()` feature of `string` without difining new fuction."
   ]
  },
  {
   "cell_type": "markdown",
   "metadata": {},
   "source": [
    "### <a name=\"1.4\"></a>Inconsistent postal codes"
   ]
  },
  {
   "cell_type": "markdown",
   "metadata": {},
   "source": [
    "There're two problems of the postal codes. First, the code with abbreviation of california, and the second it uses city name not a postal code. In this step, I only fix the first problem by extracting the digital part of postal codes."
   ]
  },
  {
   "cell_type": "markdown",
   "metadata": {},
   "source": [
    "```python\n",
    "error_post = re.compile(r'(^\\D*)(\\s)(\\d.*)')\n",
    "\n",
    "def update_post(post):\n",
    "    if error_post.search(post):\n",
    "        post = error_post.match(post)[3]\n",
    "    return post\n",
    "```"
   ]
  },
  {
   "cell_type": "markdown",
   "metadata": {},
   "source": [
    "## <a name=\"2\"></a>2.Data Overview"
   ]
  },
  {
   "cell_type": "markdown",
   "metadata": {},
   "source": [
    "### <a name=\"2.1\"></a>SQL"
   ]
  },
  {
   "cell_type": "markdown",
   "metadata": {},
   "source": [
    "By modifying code from course for shaping data and combining above clean code, I executed `toCSV.py` to transform audited and cleaned data to `csv` files. Then, I imported these files into a local SQLite database with code below:"
   ]
  },
  {
   "cell_type": "markdown",
   "metadata": {},
   "source": [
    "Import `.csv` data into `OSM.db`\n",
    "\n",
    "```sql\n",
    ".read data_wrangling_schema.sql\n",
    ".import nodes.csv nodes\n",
    ".import nodes_tags.csv nodes_tags\n",
    ".import ways.csv ways\n",
    ".import ways_tags.csv ways_tags\n",
    ".import ways_nodes.csv ways_nodes\n",
    "```"
   ]
  },
  {
   "cell_type": "markdown",
   "metadata": {},
   "source": [
    "Connect to python `sqlite3` API"
   ]
  },
  {
   "cell_type": "code",
   "execution_count": 79,
   "metadata": {
    "collapsed": true
   },
   "outputs": [],
   "source": [
    "import sqlite3"
   ]
  },
  {
   "cell_type": "code",
   "execution_count": 80,
   "metadata": {
    "collapsed": true
   },
   "outputs": [],
   "source": [
    "db = sqlite3.connect(\"SQL/OSM.db\")\n",
    "c = db.cursor()"
   ]
  },
  {
   "cell_type": "markdown",
   "metadata": {},
   "source": [
    "#### File sizes"
   ]
  },
  {
   "cell_type": "markdown",
   "metadata": {},
   "source": [
    "```\n",
    "PaloAlto_MountainView_USA.osm ... 308.4 MB\n",
    "OSM.db .......................... 162.8 MB\n",
    "nodes.csv ....................... 121.3 MB\n",
    "nodes_tags.csv .................. 2.6 MB\n",
    "ways.csv ........................ 9.8 MB\n",
    "ways_tags.csv ................... 17.9 MB\n",
    "ways_nodes.csv .................. 38.9 MB\n",
    "```"
   ]
  },
  {
   "cell_type": "markdown",
   "metadata": {},
   "source": [
    "#### Checkout quality of audited database"
   ]
  },
  {
   "cell_type": "code",
   "execution_count": 127,
   "metadata": {
    "scrolled": true
   },
   "outputs": [
    {
     "data": {
      "text/plain": [
       "[(u'30188', 1),\n",
       " (u'515', 1),\n",
       " (u'94025-1246', 1),\n",
       " (u'94035', 1),\n",
       " (u'94035-0016', 1),\n",
       " (u'9404', 1),\n",
       " (u'94043-3421', 1),\n",
       " (u'94084', 1),\n",
       " (u'94087-2248', 1),\n",
       " (u'94087\\u200e', 1)]"
      ]
     },
     "execution_count": 127,
     "metadata": {},
     "output_type": "execute_result"
    }
   ],
   "source": [
    "### check postcode\n",
    "query = '''select tags.value, count(*) as count\n",
    "           from (select * from nodes_tags\n",
    "                 union all\n",
    "                select * from ways_tags) tags\n",
    "            where tags.key = 'postcode'\n",
    "            group by tags.value\n",
    "            order by count\n",
    "            limit 10'''\n",
    "c.execute(query)\n",
    "c.fetchall()"
   ]
  },
  {
   "cell_type": "code",
   "execution_count": 131,
   "metadata": {},
   "outputs": [
    {
     "data": {
      "text/plain": [
       "[(112708857, u'postcode', u'515', u'addr'),\n",
       " (264858644, u'postcode', u'30188', u'addr')]"
      ]
     },
     "execution_count": 131,
     "metadata": {},
     "output_type": "execute_result"
    }
   ],
   "source": [
    "### look over inconsistent data\n",
    "query = '''select *\n",
    "           from (select * from nodes_tags\n",
    "                 union all\n",
    "                select * from ways_tags) tags\n",
    "            where tags.key='postcode'\n",
    "            and (tags.value = '30188'\n",
    "            or tags.value = '515')\n",
    "            '''\n",
    "c.execute(query)\n",
    "c.fetchall()"
   ]
  },
  {
   "cell_type": "code",
   "execution_count": 147,
   "metadata": {},
   "outputs": [
    {
     "data": {
      "text/plain": [
       "[(112708857, u'source', u'bing', u'regular'),\n",
       " (112708857, u'building', u'yes', u'regular'),\n",
       " (112708857, u'postcode', u'515', u'addr'),\n",
       " (112708857, u'housenumber', u'515', u'addr'),\n",
       " (264858644, u'city', u'Mountain View', u'addr'),\n",
       " (264858644, u'street', u'Escuela Avenue', u'addr'),\n",
       " (264858644, u'postcode', u'30188', u'addr'),\n",
       " (264858644, u'housenumber', u'586', u'addr')]"
      ]
     },
     "execution_count": 147,
     "metadata": {},
     "output_type": "execute_result"
    }
   ],
   "source": [
    "query = '''select * from ways_tags where id=112708857 or id=264858644 and type = 'addr'\n",
    "'''\n",
    "c.execute(query)\n",
    "c.fetchall()"
   ]
  },
  {
   "cell_type": "markdown",
   "metadata": {},
   "source": [
    "By searching online, I found that the address with '30188' postcode is a wrong, and the right postcode should be '94040'. Thus, I rectified the data with sqlite code below:"
   ]
  },
  {
   "cell_type": "markdown",
   "metadata": {},
   "source": [
    "```sql\n",
    "update ways_tags set value='94040' where (id=264858644 and key='postcode');\n",
    "```"
   ]
  },
  {
   "cell_type": "code",
   "execution_count": 150,
   "metadata": {},
   "outputs": [
    {
     "data": {
      "text/plain": [
       "[(112708857, u'source', u'bing', u'regular'),\n",
       " (112708857, u'building', u'yes', u'regular'),\n",
       " (112708857, u'postcode', u'515', u'addr'),\n",
       " (112708857, u'housenumber', u'515', u'addr'),\n",
       " (264858644, u'city', u'Mountain View', u'addr'),\n",
       " (264858644, u'street', u'Escuela Avenue', u'addr'),\n",
       " (264858644, u'postcode', u'94040', u'addr'),\n",
       " (264858644, u'housenumber', u'586', u'addr')]"
      ]
     },
     "execution_count": 150,
     "metadata": {},
     "output_type": "execute_result"
    }
   ],
   "source": [
    "query = '''select * from ways_tags where id=112708857 or id=264858644 and type = 'addr'\n",
    "'''\n",
    "c.execute(query)\n",
    "c.fetchall()"
   ]
  },
  {
   "cell_type": "markdown",
   "metadata": {},
   "source": [
    "Because I couldn't find enough data to know where is the '515' address, I decide to leave it in database"
   ]
  },
  {
   "cell_type": "markdown",
   "metadata": {},
   "source": [
    "#### Number of nodes"
   ]
  },
  {
   "cell_type": "code",
   "execution_count": 81,
   "metadata": {},
   "outputs": [
    {
     "data": {
      "text/plain": [
       "1441121"
      ]
     },
     "execution_count": 81,
     "metadata": {},
     "output_type": "execute_result"
    }
   ],
   "source": [
    "query = '''select count(*) from nodes'''\n",
    "c.execute(query)\n",
    "c.fetchall()[0][0]"
   ]
  },
  {
   "cell_type": "markdown",
   "metadata": {},
   "source": [
    "#### Number of ways"
   ]
  },
  {
   "cell_type": "code",
   "execution_count": 82,
   "metadata": {},
   "outputs": [
    {
     "data": {
      "text/plain": [
       "162720"
      ]
     },
     "execution_count": 82,
     "metadata": {},
     "output_type": "execute_result"
    }
   ],
   "source": [
    "query = '''select count(*) from ways'''\n",
    "c.execute(query)\n",
    "c.fetchall()[0][0]"
   ]
  },
  {
   "cell_type": "markdown",
   "metadata": {},
   "source": [
    "#### The distribution of version of nodes and ways"
   ]
  },
  {
   "cell_type": "code",
   "execution_count": 110,
   "metadata": {
    "collapsed": true
   },
   "outputs": [],
   "source": [
    "query = '''select e.version, count(*) as num\n",
    "           from (select version from nodes union all\n",
    "           select version from ways) e\n",
    "           group by version\n",
    "           order by num desc'''\n",
    "c.execute(query)\n",
    "version_dist = c.fetchall()"
   ]
  },
  {
   "cell_type": "code",
   "execution_count": 262,
   "metadata": {},
   "outputs": [
    {
     "name": "stdout",
     "output_type": "stream",
     "text": [
      "      0        1\n",
      "0     1  1025351\n",
      "1     2   448139\n",
      "2     3    78139\n",
      "3     4    24148\n",
      "4     5    10546\n",
      "5     6     5840\n",
      "6     7     3483\n",
      "7     8     2086\n",
      "8     9     1453\n",
      "9    10      995\n",
      "10   11      612\n",
      "11   12      513\n",
      "12   13      365\n",
      "13   14      362\n",
      "14   15      236\n",
      "15   16      219\n",
      "16   17      171\n",
      "17   18      166\n",
      "18   22      128\n",
      "19   19      115\n",
      "20   24      101\n",
      "21   21       91\n",
      "22   23       90\n",
      "23   25       71\n",
      "24   20       69\n",
      "25   27       38\n",
      "26   30       36\n",
      "27   28       35\n",
      "28   26       34\n",
      "29   29       30\n",
      "..  ...      ...\n",
      "35   35       10\n",
      "36   41       10\n",
      "37   36        9\n",
      "38   42        8\n",
      "39   38        7\n",
      "40   46        7\n",
      "41   39        6\n",
      "42   48        6\n",
      "43   45        4\n",
      "44   47        4\n",
      "45   37        3\n",
      "46   43        3\n",
      "47   51        3\n",
      "48   44        2\n",
      "49   49        2\n",
      "50   50        2\n",
      "51   59        2\n",
      "52   52        1\n",
      "53   54        1\n",
      "54   55        1\n",
      "55   56        1\n",
      "56   63        1\n",
      "57   67        1\n",
      "58   68        1\n",
      "59   70        1\n",
      "60   73        1\n",
      "61   74        1\n",
      "62   79        1\n",
      "63   83        1\n",
      "64  145        1\n",
      "\n",
      "[65 rows x 2 columns]\n"
     ]
    }
   ],
   "source": [
    "import pandas as pd    \n",
    "df = pd.DataFrame(version_dist)\n",
    "print df"
   ]
  },
  {
   "cell_type": "markdown",
   "metadata": {},
   "source": [
    "#### Top 10 nodes shared with ways"
   ]
  },
  {
   "cell_type": "code",
   "execution_count": 117,
   "metadata": {
    "scrolled": true
   },
   "outputs": [
    {
     "data": {
      "text/plain": [
       "[(65560159, u'Escalon Ave ends here', 3),\n",
       " (3404870013, u'Calabazas Step-Up Jump', 3),\n",
       " (65387340, u'SR07', 2),\n",
       " (267888019, u'575', 2),\n",
       " (1389239042, u'Google Building 1965 lobby', 2),\n",
       " (2697101145, u'In Her Shoes', 2),\n",
       " (3176076002, u'RR03', 2),\n",
       " (3537007147, u'Loft House Leasing Office', 2),\n",
       " (4097853389, u'gate', 2),\n",
       " (4227636890, u'SR03', 2)]"
      ]
     },
     "execution_count": 117,
     "metadata": {},
     "output_type": "execute_result"
    }
   ],
   "source": [
    "query = '''select ways_nodes.node_id, i.value, count(*) as num\n",
    "           from ways_nodes\n",
    "               join (select distinct(id), * from nodes_tags\n",
    "           where nodes_tags.key = 'name') i\n",
    "               on  ways_nodes.node_id = i.id\n",
    "           group by ways_nodes.node_id\n",
    "           order by num desc\n",
    "           limit 10;'''\n",
    "c.execute(query)\n",
    "c.fetchall()"
   ]
  },
  {
   "cell_type": "markdown",
   "metadata": {},
   "source": [
    "#### The number of Library and University"
   ]
  },
  {
   "cell_type": "markdown",
   "metadata": {},
   "source": [
    "I'd like to continue education in this area, so I'm interested in how many libraries and universities in this area. Library:"
   ]
  },
  {
   "cell_type": "code",
   "execution_count": 191,
   "metadata": {},
   "outputs": [
    {
     "data": {
      "text/plain": [
       "17"
      ]
     },
     "execution_count": 191,
     "metadata": {},
     "output_type": "execute_result"
    }
   ],
   "source": [
    "query = '''select count(*) from\n",
    "           (select distinct(id) from nodes_tags where\n",
    "           value='library')\n",
    "        '''\n",
    "c.execute(query)\n",
    "c.fetchall()[0][0]"
   ]
  },
  {
   "cell_type": "markdown",
   "metadata": {},
   "source": [
    "University:"
   ]
  },
  {
   "cell_type": "code",
   "execution_count": 161,
   "metadata": {},
   "outputs": [
    {
     "data": {
      "text/plain": [
       "2"
      ]
     },
     "execution_count": 161,
     "metadata": {},
     "output_type": "execute_result"
    }
   ],
   "source": [
    "query = '''select count(*) from\n",
    "           (select distinct(id) from nodes_tags where\n",
    "           value='university')\n",
    "        '''\n",
    "c.execute(query)\n",
    "c.fetchall()[0][0]"
   ]
  },
  {
   "cell_type": "markdown",
   "metadata": {},
   "source": [
    "### <a name=\"2.2\"></a>MongoDB"
   ]
  },
  {
   "cell_type": "markdown",
   "metadata": {},
   "source": [
    "Same as SQL, I executed `toJSON` for shaping the data into `JSON` file, and then I imported data into MongoDB"
   ]
  },
  {
   "cell_type": "code",
   "execution_count": 2,
   "metadata": {
    "collapsed": true
   },
   "outputs": [],
   "source": [
    "from pymongo import MongoClient, GEO2D\n",
    "import toJSON"
   ]
  },
  {
   "cell_type": "code",
   "execution_count": 5,
   "metadata": {
    "collapsed": true
   },
   "outputs": [],
   "source": [
    "client = MongoClient('mongodb://localhost:27017/')\n",
    "db = client.osm"
   ]
  },
  {
   "cell_type": "code",
   "execution_count": 13,
   "metadata": {},
   "outputs": [
    {
     "data": {
      "text/plain": [
       "<pymongo.results.InsertManyResult at 0x198acb190>"
      ]
     },
     "execution_count": 13,
     "metadata": {},
     "output_type": "execute_result"
    }
   ],
   "source": [
    "osm_map = toJSON.process_map(path)\n",
    "db.maps.insert_many(osm_map)"
   ]
  },
  {
   "cell_type": "markdown",
   "metadata": {},
   "source": [
    "#### File size:\n",
    "```\n",
    "PaloAlto_MountainView_USA.osm ....... 308.4MB\n",
    "PaloAlto_MountainView_USA.osm.json .. 345.7MB\n",
    "```"
   ]
  },
  {
   "cell_type": "markdown",
   "metadata": {},
   "source": [
    "#### Number of documents, nodes, ways and positions"
   ]
  },
  {
   "cell_type": "code",
   "execution_count": 6,
   "metadata": {},
   "outputs": [
    {
     "data": {
      "text/plain": [
       "1603841"
      ]
     },
     "execution_count": 6,
     "metadata": {},
     "output_type": "execute_result"
    }
   ],
   "source": [
    "db.maps.find().count()"
   ]
  },
  {
   "cell_type": "code",
   "execution_count": 15,
   "metadata": {},
   "outputs": [
    {
     "data": {
      "text/plain": [
       "1441121"
      ]
     },
     "execution_count": 15,
     "metadata": {},
     "output_type": "execute_result"
    }
   ],
   "source": [
    "db.maps.find({\"type\": \"node\"}).count()"
   ]
  },
  {
   "cell_type": "code",
   "execution_count": 16,
   "metadata": {},
   "outputs": [
    {
     "data": {
      "text/plain": [
       "162720"
      ]
     },
     "execution_count": 16,
     "metadata": {},
     "output_type": "execute_result"
    }
   ],
   "source": [
    "db.maps.find({\"type\": \"way\"}).count()"
   ]
  },
  {
   "cell_type": "code",
   "execution_count": 17,
   "metadata": {},
   "outputs": [
    {
     "data": {
      "text/plain": [
       "1441121"
      ]
     },
     "execution_count": 17,
     "metadata": {},
     "output_type": "execute_result"
    }
   ],
   "source": [
    "db.maps.find({\"pos\":{\"$exists\":1}}).count()"
   ]
  },
  {
   "cell_type": "markdown",
   "metadata": {},
   "source": [
    "Also, I need to update the wrong postcode manually:"
   ]
  },
  {
   "cell_type": "code",
   "execution_count": 18,
   "metadata": {},
   "outputs": [
    {
     "name": "stderr",
     "output_type": "stream",
     "text": [
      "/Users/ElsaW/anaconda/envs/py2/lib/python2.7/site-packages/ipykernel_launcher.py:3: DeprecationWarning: save is deprecated. Use insert_one or replace_one instead\n",
      "  This is separate from the ipykernel package so we can avoid doing imports until\n"
     ]
    },
    {
     "data": {
      "text/plain": [
       "ObjectId('596c18bb0a36f707180608a0')"
      ]
     },
     "execution_count": 18,
     "metadata": {},
     "output_type": "execute_result"
    }
   ],
   "source": [
    "node = db.maps.find_one({\"id\":\"264858644\"})\n",
    "node['address']['postcode'] = \"94040\"\n",
    "db.maps.save(node)"
   ]
  },
  {
   "cell_type": "markdown",
   "metadata": {},
   "source": [
    "#### Sort postcodes by counting"
   ]
  },
  {
   "cell_type": "code",
   "execution_count": 213,
   "metadata": {
    "collapsed": true
   },
   "outputs": [],
   "source": [
    "result = db.maps.aggregate([{\"$match\":{\"address.postcode\":{\"$exists\":1}}}, \n",
    "                   {\"$group\":{\"_id\":\"$address.postcode\", \"count\":{\"$sum\":1}}}, \n",
    "                   {\"$sort\":{\"count\":1}},\n",
    "                   {\"$limit\":10}                  \n",
    "                  ])"
   ]
  },
  {
   "cell_type": "markdown",
   "metadata": {},
   "source": [
    "#### Sort street by counting"
   ]
  },
  {
   "cell_type": "code",
   "execution_count": 218,
   "metadata": {
    "collapsed": true
   },
   "outputs": [],
   "source": [
    "result = db.maps.aggregate([{\"$match\":{\"address.street\":{\"$exists\":1}}}, \n",
    "                   {\"$group\":{\"_id\":\"$address.street\", \"count\":{\"$sum\":1}}}, \n",
    "                   {\"$sort\":{\"count\":1}},\n",
    "                   {\"$limit\":10}                  \n",
    "                  ])"
   ]
  },
  {
   "cell_type": "code",
   "execution_count": 219,
   "metadata": {},
   "outputs": [
    {
     "name": "stdout",
     "output_type": "stream",
     "text": [
      "{u'_id': u'Chiala Lane', u'count': 1}\n",
      "{u'_id': u'East Eaglewood Avenue', u'count': 1}\n",
      "{u'_id': u'East Charleston Road APT 9', u'count': 1}\n",
      "{u'_id': u'Leghorn Street #B', u'count': 1}\n",
      "{u'_id': u'West Portola Avenue', u'count': 1}\n",
      "{u'_id': u'Moraga Drive', u'count': 1}\n",
      "{u'_id': u'Facebook Way', u'count': 1}\n",
      "{u'_id': u'Bell Street', u'count': 1}\n",
      "{u'_id': u'Tami Way', u'count': 1}\n",
      "{u'_id': u'Whits Road', u'count': 1}\n"
     ]
    }
   ],
   "source": [
    "for i in result:\n",
    "    pprint(i)"
   ]
  },
  {
   "cell_type": "markdown",
   "metadata": {},
   "source": [
    "#### Sort city by counting"
   ]
  },
  {
   "cell_type": "code",
   "execution_count": 222,
   "metadata": {
    "collapsed": true
   },
   "outputs": [],
   "source": [
    "result = db.maps.aggregate([{\"$match\":{\"address.city\":{\"$exists\":1}}}, \n",
    "                   {\"$group\":{\"_id\":\"$address.city\", \"count\":{\"$sum\":1}}}, \n",
    "                   {\"$sort\":{\"count\":-1}},\n",
    "                  ])"
   ]
  },
  {
   "cell_type": "code",
   "execution_count": 223,
   "metadata": {},
   "outputs": [
    {
     "name": "stdout",
     "output_type": "stream",
     "text": [
      "{u'_id': u'Palo Alto', u'count': 19315}\n",
      "{u'_id': u'Redwood City', u'count': 4536}\n",
      "{u'_id': u'Sunnyvale', u'count': 2474}\n",
      "{u'_id': u'Mountain View', u'count': 2450}\n",
      "{u'_id': u'Stanford', u'count': 353}\n",
      "{u'_id': u'Los Altos', u'count': 228}\n",
      "{u'_id': u'Menlo Park', u'count': 60}\n",
      "{u'_id': u'Cupertino', u'count': 58}\n",
      "{u'_id': u'Portola Valley', u'count': 21}\n",
      "{u'_id': u'San Jos\\xe9', u'count': 20}\n",
      "{u'_id': u'Atherton', u'count': 10}\n",
      "{u'_id': u'Artherton', u'count': 7}\n",
      "{u'_id': u'Saratoga', u'count': 3}\n",
      "{u'_id': u'San Jose', u'count': 3}\n",
      "{u'_id': u'Moffett Field', u'count': 2}\n",
      "{u'_id': u'', u'count': 1}\n",
      "{u'_id': u'157', u'count': 1}\n",
      "{u'_id': u'155', u'count': 1}\n",
      "{u'_id': u'South Mary Avenue', u'count': 1}\n",
      "{u'_id': u'Santa Clara County', u'count': 1}\n"
     ]
    }
   ],
   "source": [
    "for i in result:\n",
    "    pprint(i)"
   ]
  },
  {
   "cell_type": "code",
   "execution_count": 224,
   "metadata": {},
   "outputs": [
    {
     "data": {
      "text/plain": [
       "{u'_id': ObjectId('596b2c990a36f77a7e8db4a3'),\n",
       " u'address': {u'city': u'157', u'housenumber': u'157'},\n",
       " u'created': {u'changeset': u'35731862',\n",
       "  u'timestamp': u'2015-12-03T17:38:28Z',\n",
       "  u'uid': u'1240849',\n",
       "  u'user': u'ediyes',\n",
       "  u'version': u'5'},\n",
       " u'id': u'112021516',\n",
       " u'node_refs': [u'1274542749',\n",
       "  u'1274542720',\n",
       "  u'1274542724',\n",
       "  u'1274542735',\n",
       "  u'3874884254',\n",
       "  u'3874884253',\n",
       "  u'1274542749'],\n",
       " u'type': u'way'}"
      ]
     },
     "execution_count": 224,
     "metadata": {},
     "output_type": "execute_result"
    }
   ],
   "source": [
    "db.maps.find_one({\"address.city\":\"157\"})"
   ]
  },
  {
   "cell_type": "markdown",
   "metadata": {},
   "source": [
    "Even after auditing and cleaning, there're still a few of documents that cannot be corrected. Take account of limited number of these data, I decide to not do anything of them."
   ]
  },
  {
   "cell_type": "markdown",
   "metadata": {},
   "source": [
    "## <a name=\"3\"></a>3.Additional Ideas"
   ]
  },
  {
   "cell_type": "markdown",
   "metadata": {},
   "source": [
    "### <a name=\"3.3\"></a>Cross-field validating of `user` value"
   ]
  },
  {
   "cell_type": "markdown",
   "metadata": {},
   "source": [
    "The dataset could provide same information by different fields and they could use to cross-validating the consistency and accuracy of the dataset. Here I'd like to use `user` and `uid` fields to improve the quality of data."
   ]
  },
  {
   "cell_type": "markdown",
   "metadata": {},
   "source": [
    "#### Imputing missing data"
   ]
  },
  {
   "cell_type": "markdown",
   "metadata": {},
   "source": [
    "During auditing, I found some value of users are empty, and I set those users' values to 'NA'. Becasue the dataset has both `uid` and `user`, It is possible to impute the `user` if they have `uid` value."
   ]
  },
  {
   "cell_type": "code",
   "execution_count": 32,
   "metadata": {
    "collapsed": true
   },
   "outputs": [],
   "source": [
    "Nas = db.maps.find({\"created.user\": \"NA\"},{\"created.uid\":1, \"_id\":0, \"created.user\":1})"
   ]
  },
  {
   "cell_type": "code",
   "execution_count": 33,
   "metadata": {},
   "outputs": [
    {
     "name": "stdout",
     "output_type": "stream",
     "text": [
      "{u'created': {u'uid': u'NA', u'user': u'NA'}}\n",
      "{u'created': {u'uid': u'NA', u'user': u'NA'}}\n",
      "{u'created': {u'uid': u'NA', u'user': u'NA'}}\n",
      "{u'created': {u'uid': u'NA', u'user': u'NA'}}\n"
     ]
    }
   ],
   "source": [
    "for na in Nas:\n",
    "    pprint(na)"
   ]
  },
  {
   "cell_type": "markdown",
   "metadata": {},
   "source": [
    "Oops, the query result is negative. It seems we can not correct those missing value from inside of this database, but it could be a good try to audit data for a larger scale."
   ]
  },
  {
   "cell_type": "markdown",
   "metadata": {},
   "source": [
    "#### Consistent of `user` and `uid`"
   ]
  },
  {
   "cell_type": "markdown",
   "metadata": {},
   "source": [
    "According to *OpenStreetMap*, each `uid` should be responded to one and only one `user`, which means the number of unique `user` should be equal to the number of `uid`."
   ]
  },
  {
   "cell_type": "markdown",
   "metadata": {},
   "source": [
    "##### Inconsistent user and uid"
   ]
  },
  {
   "cell_type": "code",
   "execution_count": 17,
   "metadata": {},
   "outputs": [
    {
     "data": {
      "text/plain": [
       "1076"
      ]
     },
     "execution_count": 17,
     "metadata": {},
     "output_type": "execute_result"
    }
   ],
   "source": [
    "len(db.maps.distinct(\"created.user\"))"
   ]
  },
  {
   "cell_type": "code",
   "execution_count": 35,
   "metadata": {},
   "outputs": [
    {
     "data": {
      "text/plain": [
       "1075"
      ]
     },
     "execution_count": 35,
     "metadata": {},
     "output_type": "execute_result"
    }
   ],
   "source": [
    "len(db.maps.distinct(\"created.uid\"))"
   ]
  },
  {
   "cell_type": "markdown",
   "metadata": {},
   "source": [
    "Interstingly, there is one more `user` name than `uid`. It breaks the consistency of `uid` and `user`. Let we find what happend:"
   ]
  },
  {
   "cell_type": "code",
   "execution_count": 50,
   "metadata": {
    "collapsed": true
   },
   "outputs": [],
   "source": [
    "result = db.maps.aggregate([\n",
    "    {\"$group\": {\"_id\": \"$created.uid\",\n",
    "                \"count\":{\"$sum\": 1},\n",
    "                \"users\": {\"$addToSet\": \"$created.user\"}}},\n",
    "    {\"$project\": {\"_id\":1,\n",
    "                  \"count\":1,\n",
    "                  \"users\": 1,\n",
    "                  \"size of name\": {\"$size\": \"$users\"}}},\n",
    "    {\"$match\": {\"size of name\": {\"$gt\": 1}}}   \n",
    "])"
   ]
  },
  {
   "cell_type": "code",
   "execution_count": 51,
   "metadata": {},
   "outputs": [
    {
     "name": "stdout",
     "output_type": "stream",
     "text": [
      "{u'_id': u'6022281',\n",
      " u'count': 70,\n",
      " u'size of name': 2,\n",
      " u'users': [u'Dana Bringas', u'Dana_Bringas']}\n"
     ]
    }
   ],
   "source": [
    "for r in result:\n",
    "    pprint(r)"
   ]
  },
  {
   "cell_type": "code",
   "execution_count": 52,
   "metadata": {},
   "outputs": [
    {
     "data": {
      "text/plain": [
       "19"
      ]
     },
     "execution_count": 52,
     "metadata": {},
     "output_type": "execute_result"
    }
   ],
   "source": [
    "db.maps.find({\"created.user\":\"Dana Bringas\"}).count()"
   ]
  },
  {
   "cell_type": "code",
   "execution_count": 53,
   "metadata": {},
   "outputs": [
    {
     "data": {
      "text/plain": [
       "51"
      ]
     },
     "execution_count": 53,
     "metadata": {},
     "output_type": "execute_result"
    }
   ],
   "source": [
    "db.maps.find({\"created.user\":\"Dana_Bringas\"}).count()"
   ]
  },
  {
   "cell_type": "markdown",
   "metadata": {},
   "source": [
    "There're different rules for blank between first and last name. Let we fix it:"
   ]
  },
  {
   "cell_type": "code",
   "execution_count": 54,
   "metadata": {},
   "outputs": [
    {
     "name": "stderr",
     "output_type": "stream",
     "text": [
      "/Users/ElsaW/anaconda/envs/py2/lib/python2.7/site-packages/ipykernel_launcher.py:4: DeprecationWarning: save is deprecated. Use insert_one or replace_one instead\n",
      "  after removing the cwd from sys.path.\n"
     ]
    }
   ],
   "source": [
    "names = db.maps.find({\"created.user\":\"Dana_Bringas\"})\n",
    "for name in names:\n",
    "    name['created']['user'] = \"Dana Bringas\"\n",
    "    db.maps.save(name)"
   ]
  },
  {
   "cell_type": "code",
   "execution_count": 56,
   "metadata": {},
   "outputs": [
    {
     "data": {
      "text/plain": [
       "1075"
      ]
     },
     "execution_count": 56,
     "metadata": {},
     "output_type": "execute_result"
    }
   ],
   "source": [
    "len(db.maps.distinct(\"created.user\"))"
   ]
  },
  {
   "cell_type": "markdown",
   "metadata": {},
   "source": [
    "#### Discussion"
   ]
  },
  {
   "cell_type": "markdown",
   "metadata": {},
   "source": [
    "For the situation like above, there could be two solutions:\n",
    "\n",
    "- remove missing or inconsistent values\n",
    "- fix them via cross-validating from inside or outside database\n",
    "\n",
    "First solution is easy and fast. Generally, for a big enough dataset, to remove small parts of data will not affect its accuracy to analysis. However, if missing and inconsistent values take too much account of the dataset, we must be really careful for making *delete* decision, because the data quality will be feasible by removing large parts of data.\n",
    "\n",
    "Second solution seems to be safer than the first one. It could be keep the total volumn of dataset and set values for each missing data. However, two possible disadvantages are still there. It's hard to ensure the data quality after imputing or correcting. Some operations to *fix* data actually mess up data. Also, if need-to-fix data is too large, the whole process will take much time and energy, which may cause the increase of cost.\n",
    "\n",
    "Thus, my suggestion for handling the missing and inconsistent data is that to balance the data size and cost. At this project, I chose to fix the data for two reasons: fist, the number of data is not too small to ignore it, there are 70 posts about the inconsistent names; second, it's relatively easy to fix it-only one name needed to update. However, the anticipated issus of this operation should be remebered. I fixed the name under the assumption that two user names are the same one, but what if they actually two users, and the system assigned the same uid for them mistakely?"
   ]
  },
  {
   "cell_type": "markdown",
   "metadata": {},
   "source": [
    "### <a name=\"3.1\"></a>Additional data exploration using SQL queries"
   ]
  },
  {
   "cell_type": "markdown",
   "metadata": {},
   "source": [
    "The OpenStreetMaps are updated by users manualy, which means that the version times show the users' concentrations on the area. To explore the `version` could time the users' behaviour when they edit the OSM online. The larger `version` value implies the high attention, vice versa."
   ]
  },
  {
   "cell_type": "code",
   "execution_count": 235,
   "metadata": {
    "collapsed": true
   },
   "outputs": [],
   "source": [
    "import matplotlib.pyplot as plt\n",
    "import matplotlib\n",
    "matplotlib.style.use('ggplot')\n",
    "%matplotlib inline "
   ]
  },
  {
   "cell_type": "code",
   "execution_count": 263,
   "metadata": {
    "collapsed": true
   },
   "outputs": [],
   "source": [
    "df = df.rename(index=str, columns={0: \"version\", 1: \"count\"})\n",
    "df = df.set_index('version')"
   ]
  },
  {
   "cell_type": "code",
   "execution_count": 300,
   "metadata": {},
   "outputs": [
    {
     "data": {
      "text/html": [
       "<div>\n",
       "<style>\n",
       "    .dataframe thead tr:only-child th {\n",
       "        text-align: right;\n",
       "    }\n",
       "\n",
       "    .dataframe thead th {\n",
       "        text-align: left;\n",
       "    }\n",
       "\n",
       "    .dataframe tbody tr th {\n",
       "        vertical-align: top;\n",
       "    }\n",
       "</style>\n",
       "<table border=\"1\" class=\"dataframe\">\n",
       "  <thead>\n",
       "    <tr style=\"text-align: right;\">\n",
       "      <th></th>\n",
       "      <th>count</th>\n",
       "    </tr>\n",
       "    <tr>\n",
       "      <th>version</th>\n",
       "      <th></th>\n",
       "    </tr>\n",
       "  </thead>\n",
       "  <tbody>\n",
       "    <tr>\n",
       "      <th>1</th>\n",
       "      <td>1025351</td>\n",
       "    </tr>\n",
       "    <tr>\n",
       "      <th>2</th>\n",
       "      <td>448139</td>\n",
       "    </tr>\n",
       "    <tr>\n",
       "      <th>3</th>\n",
       "      <td>78139</td>\n",
       "    </tr>\n",
       "    <tr>\n",
       "      <th>4</th>\n",
       "      <td>24148</td>\n",
       "    </tr>\n",
       "    <tr>\n",
       "      <th>5</th>\n",
       "      <td>10546</td>\n",
       "    </tr>\n",
       "    <tr>\n",
       "      <th>6</th>\n",
       "      <td>5840</td>\n",
       "    </tr>\n",
       "    <tr>\n",
       "      <th>7</th>\n",
       "      <td>3483</td>\n",
       "    </tr>\n",
       "    <tr>\n",
       "      <th>8</th>\n",
       "      <td>2086</td>\n",
       "    </tr>\n",
       "    <tr>\n",
       "      <th>9</th>\n",
       "      <td>1453</td>\n",
       "    </tr>\n",
       "    <tr>\n",
       "      <th>10</th>\n",
       "      <td>995</td>\n",
       "    </tr>\n",
       "    <tr>\n",
       "      <th>11</th>\n",
       "      <td>612</td>\n",
       "    </tr>\n",
       "    <tr>\n",
       "      <th>12</th>\n",
       "      <td>513</td>\n",
       "    </tr>\n",
       "    <tr>\n",
       "      <th>13</th>\n",
       "      <td>365</td>\n",
       "    </tr>\n",
       "    <tr>\n",
       "      <th>14</th>\n",
       "      <td>362</td>\n",
       "    </tr>\n",
       "    <tr>\n",
       "      <th>15</th>\n",
       "      <td>236</td>\n",
       "    </tr>\n",
       "    <tr>\n",
       "      <th>16</th>\n",
       "      <td>219</td>\n",
       "    </tr>\n",
       "    <tr>\n",
       "      <th>17</th>\n",
       "      <td>171</td>\n",
       "    </tr>\n",
       "    <tr>\n",
       "      <th>18</th>\n",
       "      <td>166</td>\n",
       "    </tr>\n",
       "    <tr>\n",
       "      <th>22</th>\n",
       "      <td>128</td>\n",
       "    </tr>\n",
       "    <tr>\n",
       "      <th>19</th>\n",
       "      <td>115</td>\n",
       "    </tr>\n",
       "    <tr>\n",
       "      <th>24</th>\n",
       "      <td>101</td>\n",
       "    </tr>\n",
       "    <tr>\n",
       "      <th>21</th>\n",
       "      <td>91</td>\n",
       "    </tr>\n",
       "    <tr>\n",
       "      <th>23</th>\n",
       "      <td>90</td>\n",
       "    </tr>\n",
       "    <tr>\n",
       "      <th>25</th>\n",
       "      <td>71</td>\n",
       "    </tr>\n",
       "    <tr>\n",
       "      <th>20</th>\n",
       "      <td>69</td>\n",
       "    </tr>\n",
       "    <tr>\n",
       "      <th>27</th>\n",
       "      <td>38</td>\n",
       "    </tr>\n",
       "    <tr>\n",
       "      <th>30</th>\n",
       "      <td>36</td>\n",
       "    </tr>\n",
       "    <tr>\n",
       "      <th>28</th>\n",
       "      <td>35</td>\n",
       "    </tr>\n",
       "    <tr>\n",
       "      <th>26</th>\n",
       "      <td>34</td>\n",
       "    </tr>\n",
       "    <tr>\n",
       "      <th>29</th>\n",
       "      <td>30</td>\n",
       "    </tr>\n",
       "    <tr>\n",
       "      <th>...</th>\n",
       "      <td>...</td>\n",
       "    </tr>\n",
       "    <tr>\n",
       "      <th>35</th>\n",
       "      <td>10</td>\n",
       "    </tr>\n",
       "    <tr>\n",
       "      <th>41</th>\n",
       "      <td>10</td>\n",
       "    </tr>\n",
       "    <tr>\n",
       "      <th>36</th>\n",
       "      <td>9</td>\n",
       "    </tr>\n",
       "    <tr>\n",
       "      <th>42</th>\n",
       "      <td>8</td>\n",
       "    </tr>\n",
       "    <tr>\n",
       "      <th>38</th>\n",
       "      <td>7</td>\n",
       "    </tr>\n",
       "    <tr>\n",
       "      <th>46</th>\n",
       "      <td>7</td>\n",
       "    </tr>\n",
       "    <tr>\n",
       "      <th>39</th>\n",
       "      <td>6</td>\n",
       "    </tr>\n",
       "    <tr>\n",
       "      <th>48</th>\n",
       "      <td>6</td>\n",
       "    </tr>\n",
       "    <tr>\n",
       "      <th>45</th>\n",
       "      <td>4</td>\n",
       "    </tr>\n",
       "    <tr>\n",
       "      <th>47</th>\n",
       "      <td>4</td>\n",
       "    </tr>\n",
       "    <tr>\n",
       "      <th>37</th>\n",
       "      <td>3</td>\n",
       "    </tr>\n",
       "    <tr>\n",
       "      <th>43</th>\n",
       "      <td>3</td>\n",
       "    </tr>\n",
       "    <tr>\n",
       "      <th>51</th>\n",
       "      <td>3</td>\n",
       "    </tr>\n",
       "    <tr>\n",
       "      <th>44</th>\n",
       "      <td>2</td>\n",
       "    </tr>\n",
       "    <tr>\n",
       "      <th>49</th>\n",
       "      <td>2</td>\n",
       "    </tr>\n",
       "    <tr>\n",
       "      <th>50</th>\n",
       "      <td>2</td>\n",
       "    </tr>\n",
       "    <tr>\n",
       "      <th>59</th>\n",
       "      <td>2</td>\n",
       "    </tr>\n",
       "    <tr>\n",
       "      <th>52</th>\n",
       "      <td>1</td>\n",
       "    </tr>\n",
       "    <tr>\n",
       "      <th>54</th>\n",
       "      <td>1</td>\n",
       "    </tr>\n",
       "    <tr>\n",
       "      <th>55</th>\n",
       "      <td>1</td>\n",
       "    </tr>\n",
       "    <tr>\n",
       "      <th>56</th>\n",
       "      <td>1</td>\n",
       "    </tr>\n",
       "    <tr>\n",
       "      <th>63</th>\n",
       "      <td>1</td>\n",
       "    </tr>\n",
       "    <tr>\n",
       "      <th>67</th>\n",
       "      <td>1</td>\n",
       "    </tr>\n",
       "    <tr>\n",
       "      <th>68</th>\n",
       "      <td>1</td>\n",
       "    </tr>\n",
       "    <tr>\n",
       "      <th>70</th>\n",
       "      <td>1</td>\n",
       "    </tr>\n",
       "    <tr>\n",
       "      <th>73</th>\n",
       "      <td>1</td>\n",
       "    </tr>\n",
       "    <tr>\n",
       "      <th>74</th>\n",
       "      <td>1</td>\n",
       "    </tr>\n",
       "    <tr>\n",
       "      <th>79</th>\n",
       "      <td>1</td>\n",
       "    </tr>\n",
       "    <tr>\n",
       "      <th>83</th>\n",
       "      <td>1</td>\n",
       "    </tr>\n",
       "    <tr>\n",
       "      <th>145</th>\n",
       "      <td>1</td>\n",
       "    </tr>\n",
       "  </tbody>\n",
       "</table>\n",
       "<p>65 rows × 1 columns</p>\n",
       "</div>"
      ],
      "text/plain": [
       "           count\n",
       "version         \n",
       "1        1025351\n",
       "2         448139\n",
       "3          78139\n",
       "4          24148\n",
       "5          10546\n",
       "6           5840\n",
       "7           3483\n",
       "8           2086\n",
       "9           1453\n",
       "10           995\n",
       "11           612\n",
       "12           513\n",
       "13           365\n",
       "14           362\n",
       "15           236\n",
       "16           219\n",
       "17           171\n",
       "18           166\n",
       "22           128\n",
       "19           115\n",
       "24           101\n",
       "21            91\n",
       "23            90\n",
       "25            71\n",
       "20            69\n",
       "27            38\n",
       "30            36\n",
       "28            35\n",
       "26            34\n",
       "29            30\n",
       "...          ...\n",
       "35            10\n",
       "41            10\n",
       "36             9\n",
       "42             8\n",
       "38             7\n",
       "46             7\n",
       "39             6\n",
       "48             6\n",
       "45             4\n",
       "47             4\n",
       "37             3\n",
       "43             3\n",
       "51             3\n",
       "44             2\n",
       "49             2\n",
       "50             2\n",
       "59             2\n",
       "52             1\n",
       "54             1\n",
       "55             1\n",
       "56             1\n",
       "63             1\n",
       "67             1\n",
       "68             1\n",
       "70             1\n",
       "73             1\n",
       "74             1\n",
       "79             1\n",
       "83             1\n",
       "145            1\n",
       "\n",
       "[65 rows x 1 columns]"
      ]
     },
     "execution_count": 300,
     "metadata": {},
     "output_type": "execute_result"
    }
   ],
   "source": [
    "df"
   ]
  },
  {
   "cell_type": "code",
   "execution_count": 299,
   "metadata": {},
   "outputs": [
    {
     "data": {
      "text/plain": [
       "<matplotlib.axes._subplots.AxesSubplot at 0x1ea6e66d0>"
      ]
     },
     "execution_count": 299,
     "metadata": {},
     "output_type": "execute_result"
    },
    {
     "data": {
      "image/png": "[encoded data removed]",
      "text/plain": [
       "<matplotlib.figure.Figure at 0x1ea2c2510>"
      ]
     },
     "metadata": {},
     "output_type": "display_data"
    }
   ],
   "source": [
    "df[0:5].plot()"
   ]
  },
  {
   "cell_type": "code",
   "execution_count": 302,
   "metadata": {},
   "outputs": [
    {
     "data": {
      "text/plain": [
       "<matplotlib.axes._subplots.AxesSubplot at 0x1e9770e90>"
      ]
     },
     "execution_count": 302,
     "metadata": {},
     "output_type": "execute_result"
    },
    {
     "data": {
      "image/png": "[encoded data removed]",
      "text/plain": [
       "<matplotlib.figure.Figure at 0x1e90091d0>"
      ]
     },
     "metadata": {},
     "output_type": "display_data"
    }
   ],
   "source": [
    "df[5:].plot()"
   ]
  },
  {
   "cell_type": "markdown",
   "metadata": {},
   "source": [
    "Most of (over 63%) nodes and ways at this area are just edited once, 28% of nodes and ways are updated once after first inputing, only about 5% nodes and ways are updated twice after first inputing. This result implies that the data of OSM in this area might be out of date to some extent."
   ]
  },
  {
   "cell_type": "markdown",
   "metadata": {},
   "source": [
    "Also, some nodes and ways show the unusal high version, such as 83 times updated and 145 times updated. Let we explore them and try to find the reason by the data."
   ]
  },
  {
   "cell_type": "code",
   "execution_count": 291,
   "metadata": {},
   "outputs": [
    {
     "data": {
      "text/plain": [
       "[(4786675, u'n76', 318696, 145, 17945349, u'2013-09-20T19:04:10Z'),\n",
       " (4809373, u'nikhilprabhakar', 2835928, 83, 38445809, u'2016-04-10T09:12:58Z')]"
      ]
     },
     "execution_count": 291,
     "metadata": {},
     "output_type": "execute_result"
    }
   ],
   "source": [
    "query = '''select *\n",
    "           from ways\n",
    "            where version = 83 or version = 145\n",
    "            '''\n",
    "c.execute(query)\n",
    "c.fetchall()"
   ]
  },
  {
   "cell_type": "code",
   "execution_count": 305,
   "metadata": {},
   "outputs": [
    {
     "data": {
      "text/plain": [
       "[(4786675, u'hgv', u'designated', u'regular'),\n",
       " (4786675, u'ref', u'I 280', u'regular'),\n",
       " (4786675, u'foot', u'no', u'regular'),\n",
       " (4786675, u'name', u'Junipero Serra Freeway', u'regular'),\n",
       " (4786675, u'horse', u'no', u'regular'),\n",
       " (4786675, u'lanes', u'4', u'regular'),\n",
       " (4786675, u'oneway', u'yes', u'regular'),\n",
       " (4786675, u'bicycle', u'no', u'regular'),\n",
       " (4786675, u'highway', u'motorway', u'regular'),\n",
       " (4786675, u'maxspeed', u'65 mph', u'regular'),\n",
       " (4786675, u'sidewalk', u'none', u'regular'),\n",
       " (4786675, u'hgv', u'55 mph', u'maxspeed'),\n",
       " (4786675, u'maxspeed', u'sign', u'source'),\n",
       " (4786675, u'trailer', u'55 mph', u'maxspeed'),\n",
       " (4809373, u'hgv', u'designated', u'regular'),\n",
       " (4809373, u'ref', u'CA 82', u'regular'),\n",
       " (4809373, u'name', u'East El Camino Real', u'regular'),\n",
       " (4809373, u'lanes', u'4', u'regular'),\n",
       " (4809373, u'oneway', u'yes', u'regular'),\n",
       " (4809373, u'highway', u'primary', u'regular'),\n",
       " (4809373, u'old_ref', u'US 101', u'regular'),\n",
       " (4809373, u'surface', u'asphalt', u'regular'),\n",
       " (4809373, u'maxspeed', u'40 mph', u'regular'),\n",
       " (4809373, u'lanes', u'|||right', u'turn'),\n",
       " (4809373, u'national_network', u'terminal_access', u'hgv'),\n",
       " (4809373,\n",
       "  u'hgv:national_network',\n",
       "  u'Caltrans http://www.dot.ca.gov/hq/traffops/trucks/truckmap/',\n",
       "  u'source')]"
      ]
     },
     "execution_count": 305,
     "metadata": {},
     "output_type": "execute_result"
    }
   ],
   "source": [
    "query = '''select *\n",
    "           from ways_tags\n",
    "            where id = 4786675 or id = 4809373\n",
    "            '''\n",
    "c.execute(query)\n",
    "c.fetchall()"
   ]
  },
  {
   "cell_type": "markdown",
   "metadata": {},
   "source": [
    "The exploration shows that two unusual updated points are road type ways. Their high number of number may be caused by road construction or traffic rules changes frequently..."
   ]
  },
  {
   "cell_type": "markdown",
   "metadata": {},
   "source": [
    "##### Top 10 appearing amenties"
   ]
  },
  {
   "cell_type": "code",
   "execution_count": 306,
   "metadata": {},
   "outputs": [
    {
     "data": {
      "text/plain": [
       "[(u'restaurant', 388),\n",
       " (u'bicycle_parking', 356),\n",
       " (u'bench', 302),\n",
       " (u'post_box', 191),\n",
       " (u'cafe', 151),\n",
       " (u'fast_food', 126),\n",
       " (u'drinking_water', 110),\n",
       " (u'parking_entrance', 75),\n",
       " (u'toilets', 74),\n",
       " (u'atm', 55)]"
      ]
     },
     "execution_count": 306,
     "metadata": {},
     "output_type": "execute_result"
    }
   ],
   "source": [
    "query = '''select value, count(*) as num\n",
    "           from nodes_tags\n",
    "            where key = \"amenity\"\n",
    "            group by value\n",
    "            order by num desc\n",
    "            limit 10;\n",
    "            '''\n",
    "c.execute(query)\n",
    "c.fetchall()"
   ]
  },
  {
   "cell_type": "markdown",
   "metadata": {},
   "source": [
    "##### Most popular type of cafe"
   ]
  },
  {
   "cell_type": "code",
   "execution_count": 318,
   "metadata": {},
   "outputs": [
    {
     "data": {
      "text/plain": [
       "[(u'coffee_shop', 24),\n",
       " (u'american', 4),\n",
       " (u'bubble_tea', 3),\n",
       " (u'tea', 3),\n",
       " (u'bagels', 2),\n",
       " (u'regional', 2),\n",
       " (u'sandwich', 2),\n",
       " (u'Japanese', 1),\n",
       " (u'Mexican, salads, sandwiches, gelato, frittata, cakes', 1),\n",
       " (u'bagel', 1),\n",
       " (u'boba_&_snacks', 1),\n",
       " (u'chinese', 1),\n",
       " (u'coffee, pastries, ice cream', 1),\n",
       " (u'deli', 1),\n",
       " (u'dessert', 1),\n",
       " (u'dim_sum', 1),\n",
       " (u'french', 1),\n",
       " (u'ice_cream', 1),\n",
       " (u'indian', 1),\n",
       " (u'italian', 1),\n",
       " (u'mediterranean', 1),\n",
       " (u'pizza;japanese;indian', 1),\n",
       " (u'vietnamese', 1)]"
      ]
     },
     "execution_count": 318,
     "metadata": {},
     "output_type": "execute_result"
    }
   ],
   "source": [
    "query = '''select nodes_tags.value, count(*) as num\n",
    "           from nodes_tags\n",
    "                join (select distinct(id) from nodes_tags where value=\"cafe\") i\n",
    "                on nodes_tags.id= i.id\n",
    "            where nodes_tags.key=\"cuisine\"\n",
    "            group by value\n",
    "            order by num desc;\n",
    "            '''\n",
    "c.execute(query)\n",
    "c.fetchall()"
   ]
  },
  {
   "cell_type": "markdown",
   "metadata": {},
   "source": [
    "Oops, I wonder what's the \"vietanmese\" type of coffee shop!"
   ]
  },
  {
   "cell_type": "markdown",
   "metadata": {},
   "source": [
    "### <a name=\"3.2\"></a>Additional data exploration using MongoDB queries\n"
   ]
  },
  {
   "cell_type": "code",
   "execution_count": 327,
   "metadata": {},
   "outputs": [
    {
     "data": {
      "text/plain": [
       "u'pos_2d'"
      ]
     },
     "execution_count": 327,
     "metadata": {},
     "output_type": "execute_result"
    }
   ],
   "source": [
    "## Create geospatial indexing\n",
    "db.maps.create_index([(\"pos\", GEO2D)])"
   ]
  },
  {
   "cell_type": "markdown",
   "metadata": {},
   "source": [
    "Well, I'm planing to visit Google at Mountain View, so I'd like to explore the Google area and make a *perfect plan* before I leave :)"
   ]
  },
  {
   "cell_type": "code",
   "execution_count": 332,
   "metadata": {},
   "outputs": [
    {
     "data": {
      "text/plain": [
       "{u'name': u'Google Visitor Center', u'pos': [37.4194653, -122.0875371]}"
      ]
     },
     "execution_count": 332,
     "metadata": {},
     "output_type": "execute_result"
    }
   ],
   "source": [
    "### Find Google GPS location\n",
    "db.maps.find_one({\"name\": \"Google Visitor Center\"},{\"name\": 1, \"pos\": 1, \"_id\": 0})"
   ]
  },
  {
   "cell_type": "markdown",
   "metadata": {},
   "source": [
    "##### Top 10 neareast restaurants around Google"
   ]
  },
  {
   "cell_type": "code",
   "execution_count": 404,
   "metadata": {
    "collapsed": true
   },
   "outputs": [],
   "source": [
    "result = db.maps.aggregate(\n",
    "[{\"$geoNear\":{\n",
    "    \"near\":[37.4194653, -122.0875371],\n",
    "    \"distanceField\": \"distance\",\n",
    "    \"maxDistance\": 1000,\n",
    "    \"query\": {\"amenity\": \"restaurant\"},\n",
    "    }},\n",
    " {\"$project\": {\"phone\":1, \"name\" :1, \"_id\": 0, \"distance\":1, \"cuisine\":1, \"address\": 1, }},\n",
    " {\"$sort\": {\"distance\": 1}},\n",
    " {\"$limit\":10}\n",
    "])"
   ]
  },
  {
   "cell_type": "code",
   "execution_count": 405,
   "metadata": {},
   "outputs": [
    {
     "name": "stdout",
     "output_type": "stream",
     "text": [
      "{u'address': {u'city': u'Mountain View',\n",
      "              u'housenumber': u'2025',\n",
      "              u'postcode': u'94043',\n",
      "              u'state': u'California',\n",
      "              u'street': u'Garcia Avenue'},\n",
      " u'distance': 0.006216221875054424,\n",
      " u'name': u'Crave'}\n",
      "{u'distance': 0.008263659253622616, u'name': u'Evolution Cafe'}\n",
      "{u'cuisine': u'indian;pakistani',\n",
      " u'distance': 0.00873932670747542,\n",
      " u'name': u'Zareen\\u2019s'}\n",
      "{u'address': {u'city': u'Mountain View',\n",
      "              u'housenumber': u'2430',\n",
      "              u'postcode': u'94043',\n",
      "              u'state': u'California',\n",
      "              u'street': u'East Charleston Road'},\n",
      " u'cuisine': u'barbecue',\n",
      " u'distance': 0.009234248188122927,\n",
      " u'name': u'L&L Hawaiian Barbecue'}\n",
      "{u'address': {u'city': u'Mountain View',\n",
      "              u'housenumber': u'1390',\n",
      "              u'postcode': u'94043',\n",
      "              u'state': u'California',\n",
      "              u'street': u'Pear Avenue'},\n",
      " u'cuisine': u'italian',\n",
      " u'distance': 0.010523310430669652,\n",
      " u'name': u'Cucina Venti'}\n",
      "{u'address': {u'city': u'Mountain View',\n",
      "              u'housenumber': u'1390',\n",
      "              u'postcode': u'94043',\n",
      "              u'state': u'California',\n",
      "              u'street': u'Pear Avenue'},\n",
      " u'cuisine': u'tapas',\n",
      " u'distance': 0.010595235533019495,\n",
      " u'name': u'The Voya Restaurant',\n",
      " u'phone': u'+1 650 386-6471'}\n",
      "{u'address': {u'city': u'Mountain View',\n",
      "              u'housenumber': u'580',\n",
      "              u'postcode': u'94043',\n",
      "              u'street': u'North Rengstorff Avenue',\n",
      "              u'unit': u'J'},\n",
      " u'cuisine': u'japanese',\n",
      " u'distance': 0.010755303890634345,\n",
      " u'name': u'Kumino Noodle & Rice',\n",
      " u'phone': u'+16509643300'}\n",
      "{u'distance': 0.011604269752974284, u'name': u\"Baji's Cafe\"}\n",
      "{u'address': {u'city': u'Mountain View',\n",
      "              u'housenumber': u'3160',\n",
      "              u'street': u'North Shoreline Boulevard'},\n",
      " u'cuisine': u'american',\n",
      " u'distance': 0.01314007775814358,\n",
      " u'name': u'American Bistro'}\n",
      "{u'cuisine': u'mexican;salvadoran',\n",
      " u'distance': 0.01853008516385737,\n",
      " u'name': u'Rinc\\xf3n Sabroso'}\n"
     ]
    }
   ],
   "source": [
    "for i in result:\n",
    "    pprint(i)"
   ]
  },
  {
   "cell_type": "markdown",
   "metadata": {},
   "source": [
    "##### Check most popular cuisine wihtin 5km around Google"
   ]
  },
  {
   "cell_type": "code",
   "execution_count": 410,
   "metadata": {
    "collapsed": true
   },
   "outputs": [],
   "source": [
    "result = db.maps.aggregate(\n",
    "[{\"$geoNear\":{\n",
    "    \"near\":[37.4194653, -122.0875371],\n",
    "    \"distanceField\": \"distance\",\n",
    "    \"maxDistance\": 5000,\n",
    "    \"query\": {\"amenity\": \"restaurant\"}\n",
    "    }},\n",
    " {\"$group\": {\"_id\":\"$cuisine\", \"count\":{\"$sum\":1}}},\n",
    " {\"$sort\": {\"count\": -1}},\n",
    " {\"$limit\": 10}\n",
    "])"
   ]
  },
  {
   "cell_type": "code",
   "execution_count": 411,
   "metadata": {},
   "outputs": [
    {
     "name": "stdout",
     "output_type": "stream",
     "text": [
      "{u'_id': None, u'count': 17}\n",
      "{u'_id': u'japanese', u'count': 12}\n",
      "{u'_id': u'pizza', u'count': 9}\n",
      "{u'_id': u'mexican', u'count': 8}\n",
      "{u'_id': u'chinese', u'count': 7}\n",
      "{u'_id': u'vietnamese', u'count': 5}\n",
      "{u'_id': u'indian', u'count': 5}\n",
      "{u'_id': u'american', u'count': 4}\n",
      "{u'_id': u'burger', u'count': 3}\n",
      "{u'_id': u'asian', u'count': 3}\n"
     ]
    }
   ],
   "source": [
    "for i in result:\n",
    "    pprint(i)"
   ]
  },
  {
   "cell_type": "markdown",
   "metadata": {},
   "source": [
    "## Conclusion"
   ]
  },
  {
   "cell_type": "markdown",
   "metadata": {},
   "source": [
    "This project simply overviewed the aspects of `OpenStreetMap` data around **Mountain View** and **Palo Alto** and checked the user updated behaviours wiht `SQL` and eating condition near Google with `MongoDB`."
   ]
  }
 ],
 "metadata": {
  "kernelspec": {
   "display_name": "Python 2",
   "language": "python",
   "name": "python2"
  },
  "language_info": {
   "codemirror_mode": {
    "name": "ipython",
    "version": 2
   },
   "file_extension": ".py",
   "mimetype": "text/x-python",
   "name": "python",
   "nbconvert_exporter": "python",
   "pygments_lexer": "ipython2",
   "version": "2.7.13"
  }
 },
 "nbformat": 4,
 "nbformat_minor": 2
}
